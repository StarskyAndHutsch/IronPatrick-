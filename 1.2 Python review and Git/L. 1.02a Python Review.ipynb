{
 "cells": [
  {
   "cell_type": "code",
   "execution_count": null,
   "metadata": {
    "id": "mwiXEr6A6GUy"
   },
   "outputs": [],
   "source": [
    "# a variable is a location that can store a value; \n",
    "# think of a piece of paper on which you write the value\n",
    "\n",
    "advance = 3 # integer\n",
    "pi = 3.14   # float\n",
    "firstcharacter = \"?\" # character\n",
    "answer = 'This is a string.' # string\n",
    "equal = False #boolean\n",
    "\n"
   ]
  },
  {
   "cell_type": "code",
   "execution_count": null,
   "metadata": {},
   "outputs": [],
   "source": [
    "tokens = [1,3,25] # list\n",
    "mixedbag = [0, 3.567, 'word', ['another list', 7]] #also a list"
   ]
  },
  {
   "cell_type": "code",
   "execution_count": null,
   "metadata": {
    "id": "7n6K_h6B6GU6",
    "outputId": "16762691-1241-4ea3-9e00-0b4782879de7"
   },
   "outputs": [],
   "source": [
    "print(tokens)  "
   ]
  },
  {
   "cell_type": "code",
   "execution_count": null,
   "metadata": {},
   "outputs": [],
   "source": [
    "mixedbag[2][0]"
   ]
  },
  {
   "cell_type": "code",
   "execution_count": null,
   "metadata": {
    "id": "IlSiGxw-6GU9",
    "outputId": "1112cbfd-d24e-4df5-87da-07917ddf61d8"
   },
   "outputs": [],
   "source": [
    "print(advance)"
   ]
  },
  {
   "cell_type": "code",
   "execution_count": null,
   "metadata": {
    "id": "XwpQS-FP6GVA",
    "outputId": "a4cec458-a819-47f5-b730-203ad76f92ea"
   },
   "outputs": [],
   "source": [
    "newvar = advance + pi\n",
    "newvar"
   ]
  },
  {
   "cell_type": "code",
   "execution_count": null,
   "metadata": {
    "id": "j79UNoe96GVB"
   },
   "outputs": [],
   "source": [
    "advance = advance + 2"
   ]
  },
  {
   "cell_type": "code",
   "execution_count": null,
   "metadata": {
    "id": "xyc3ntvk6GVC",
    "outputId": "c75257a4-0102-45bc-dfe3-b5c3863ce2bd"
   },
   "outputs": [],
   "source": [
    "advance"
   ]
  },
  {
   "cell_type": "code",
   "execution_count": null,
   "metadata": {
    "id": "eiDdXCzt6GVC"
   },
   "outputs": [],
   "source": [
    "total = advance ** 3"
   ]
  },
  {
   "cell_type": "code",
   "execution_count": null,
   "metadata": {
    "id": "1pEHdfm-6GVD",
    "outputId": "617869b9-4b63-4c19-ac8d-71177d1f14c5"
   },
   "outputs": [],
   "source": [
    "total"
   ]
  },
  {
   "cell_type": "code",
   "execution_count": null,
   "metadata": {
    "id": "khzyTmit6GVD"
   },
   "outputs": [],
   "source": [
    "# operators\n",
    "# + - / * ** %\n",
    "# == > < <= >= "
   ]
  },
  {
   "cell_type": "code",
   "execution_count": null,
   "metadata": {},
   "outputs": [],
   "source": [
    "equal = 3 == 5"
   ]
  },
  {
   "cell_type": "code",
   "execution_count": null,
   "metadata": {},
   "outputs": [],
   "source": [
    "equal"
   ]
  },
  {
   "cell_type": "code",
   "execution_count": null,
   "metadata": {
    "id": "KibD43ij6GVE",
    "outputId": "d0cfa3e7-e041-442c-a599-c351001e10eb"
   },
   "outputs": [],
   "source": [
    "# not all operators work on all data types\n",
    "half_of_tokens = tokens  / 2"
   ]
  },
  {
   "cell_type": "code",
   "execution_count": null,
   "metadata": {
    "id": "VLUP8opL6GVE"
   },
   "outputs": [],
   "source": [
    "# conditional statements if, if/else (or if/elif/else)"
   ]
  },
  {
   "cell_type": "code",
   "execution_count": null,
   "metadata": {
    "id": "-w5ivWJy6GVF"
   },
   "outputs": [],
   "source": [
    "bet = 5\n",
    "if bet > 5:\n",
    "    allowance = 42\n",
    "else:\n",
    "    allowance = 13"
   ]
  },
  {
   "cell_type": "code",
   "execution_count": null,
   "metadata": {
    "id": "a_K0Pkde6GVF",
    "outputId": "378719bd-d458-41be-dcbf-9ec6e13cdefd"
   },
   "outputs": [],
   "source": [
    "allowance"
   ]
  },
  {
   "cell_type": "code",
   "execution_count": null,
   "metadata": {
    "id": "b1mo21hg6GVF"
   },
   "outputs": [],
   "source": [
    "if bet > 5:\n",
    "    allowance = 42\n",
    "elif bet > 0:\n",
    "    newvar2 = 123\n",
    "    allowance = 18\n",
    "else:\n",
    "    allowance = 13"
   ]
  },
  {
   "cell_type": "code",
   "execution_count": null,
   "metadata": {
    "id": "CiwzDAr_6GVG",
    "outputId": "fb209610-0274-43a9-9719-69a649a8e619"
   },
   "outputs": [],
   "source": [
    "print(allowance)\n",
    "print(newvar2)"
   ]
  },
  {
   "cell_type": "code",
   "execution_count": null,
   "metadata": {
    "id": "fLH8VSn-6GVH"
   },
   "outputs": [],
   "source": [
    "# iteration or repetition: loops"
   ]
  },
  {
   "cell_type": "code",
   "execution_count": null,
   "metadata": {},
   "outputs": [],
   "source": [
    "len(mixedbag)"
   ]
  },
  {
   "cell_type": "code",
   "execution_count": null,
   "metadata": {
    "id": "MiADOgRF6GVH",
    "outputId": "af058e8e-8d9b-4ac4-a99a-030cc1b20dbc"
   },
   "outputs": [],
   "source": [
    "# for loop  (preferred form)\n",
    "for el in mixedbag:\n",
    "    print(el)\n",
    "    \n",
    "# in C:\n",
    "# for i=0;i++;i<4 {\n",
    "#    print(mixedbag[i])\n",
    "# }\n",
    "\n",
    "for i in range(len(mixedbag)):\n",
    "    print(mixedbag[i])\n"
   ]
  },
  {
   "cell_type": "code",
   "execution_count": null,
   "metadata": {
    "id": "GokgPhBH6GVH",
    "outputId": "4a2ee604-a494-4fd8-a97d-53825ea6d8d1"
   },
   "outputs": [],
   "source": [
    "# while loop\n",
    "i = 0\n",
    "while i < 10:\n",
    "    print(i)\n",
    "    i = i + 1\n",
    "\n",
    "#next statement"
   ]
  },
  {
   "cell_type": "code",
   "execution_count": null,
   "metadata": {},
   "outputs": [],
   "source": [
    "for i in range(10):\n",
    "    print(i)"
   ]
  },
  {
   "cell_type": "code",
   "execution_count": null,
   "metadata": {
    "id": "inMwh-F26GVI"
   },
   "outputs": [],
   "source": [
    "# functions"
   ]
  },
  {
   "cell_type": "code",
   "execution_count": null,
   "metadata": {
    "id": "SMxKNtLu6GVI"
   },
   "outputs": [],
   "source": [
    "#defining a function\n",
    "def add_and_multiply(parameter1, parameter2):\n",
    "    summation = parameter1 + parameter2\n",
    "    product = parameter1 * parameter2\n",
    "    return summation, product, 250\n",
    "    \n",
    "\n"
   ]
  },
  {
   "cell_type": "code",
   "execution_count": null,
   "metadata": {
    "id": "fIgZ26qd6GVI",
    "outputId": "36d6121d-bcc1-471e-c7d6-f08234cc3c68"
   },
   "outputs": [],
   "source": [
    "#calling a function\n",
    "x = add_and_multiply(2, 5)\n",
    "print(x)\n",
    "print(y)\n",
    "print(z)\n",
    "print(summation)"
   ]
  },
  {
   "cell_type": "code",
   "execution_count": null,
   "metadata": {
    "id": "wjhrEdNa6GVI"
   },
   "outputs": [],
   "source": [
    "def addVAT(net_price, VAT_percent=21):\n",
    "    consumer_price = net_price * (1 + (VAT_percent/100))\n",
    "    #print(1+VAT_percent/100)\n",
    "    return round(consumer_price,2)"
   ]
  },
  {
   "cell_type": "code",
   "execution_count": null,
   "metadata": {
    "id": "KFiG5jTa6GVJ",
    "outputId": "b17396b4-d163-47f6-823c-7697c157a430"
   },
   "outputs": [],
   "source": [
    "print(addVAT(100,6))"
   ]
  },
  {
   "cell_type": "code",
   "execution_count": null,
   "metadata": {
    "id": "QQOJFEPW6GVJ"
   },
   "outputs": [],
   "source": [
    "# ways to create a list\n",
    "#1: initialise\n",
    "even_numbers = [0,2,4,6,8,10,12,14,16,18,20]"
   ]
  },
  {
   "cell_type": "code",
   "execution_count": null,
   "metadata": {
    "id": "oVNI5Py-6GVJ",
    "outputId": "14d5e0be-b7c3-4510-9364-dc07a3efc7b6"
   },
   "outputs": [],
   "source": [
    "even_numbers"
   ]
  },
  {
   "cell_type": "code",
   "execution_count": null,
   "metadata": {
    "id": "F4lnt58X6GVK"
   },
   "outputs": [],
   "source": [
    "#2: for loop\n",
    "even_numbers2 = []\n",
    "for number in range(21):\n",
    "    if number % 2 == 0:\n",
    "         even_numbers2.append(number)\n"
   ]
  },
  {
   "cell_type": "code",
   "execution_count": null,
   "metadata": {
    "id": "_UtYzhY76GVK",
    "outputId": "834e5f3c-fb56-4165-9be6-730398b403ce"
   },
   "outputs": [],
   "source": [
    "even_numbers2"
   ]
  },
  {
   "cell_type": "code",
   "execution_count": null,
   "metadata": {
    "id": "zN0_K_hZ6GVK"
   },
   "outputs": [],
   "source": [
    "#3: list comprehension\n",
    "even_numbers3 = [number for number in range(21) if number%2==0]"
   ]
  },
  {
   "cell_type": "code",
   "execution_count": null,
   "metadata": {
    "id": "-F5kYAaq6GVK",
    "outputId": "dbc70715-66ee-458a-a4f8-5266d4f1f0f5"
   },
   "outputs": [],
   "source": [
    "even_numbers3"
   ]
  },
  {
   "cell_type": "code",
   "execution_count": null,
   "metadata": {},
   "outputs": [],
   "source": [
    "even_numbers"
   ]
  },
  {
   "cell_type": "code",
   "execution_count": null,
   "metadata": {
    "id": "udVW1a766GVL",
    "outputId": "7b3f6c10-f9df-4399-fd1b-ae0a576240ae"
   },
   "outputs": [],
   "source": [
    "# lists (and strings) can be indexed; indexing starts from 0\n",
    "even_numbers[0]\n",
    "\n",
    "even_numbers[3]\n",
    "\n",
    "even_numbers[-1]\n",
    "\n",
    "even_numbers[-3]\n",
    "\n",
    "even_numbers[::-1]"
   ]
  },
  {
   "cell_type": "code",
   "execution_count": null,
   "metadata": {
    "id": "3fc5RW7K6GVL"
   },
   "outputs": [],
   "source": [
    "# dictionaries; allows us to use our own indexes"
   ]
  },
  {
   "cell_type": "code",
   "execution_count": null,
   "metadata": {
    "id": "XKzPIHyZ6GVL"
   },
   "outputs": [],
   "source": [
    "band = {'John': ['Lennon', '555-4563'],\n",
    "        'Paul': ['McCartney', '555-8765'],\n",
    "        'George': ['Harrison', '555-1287'],\n",
    "        'Ringo': ['Starr', '555-5623']\n",
    "       }"
   ]
  },
  {
   "cell_type": "code",
   "execution_count": null,
   "metadata": {
    "id": "IMoPbE0Y6GVL",
    "outputId": "29733a54-1a50-4dd3-b626-1352106e86eb"
   },
   "outputs": [],
   "source": [
    "band.keys()"
   ]
  },
  {
   "cell_type": "code",
   "execution_count": null,
   "metadata": {
    "id": "WwcGQKks6GVL"
   },
   "outputs": [],
   "source": [
    "band['John']"
   ]
  },
  {
   "cell_type": "code",
   "execution_count": null,
   "metadata": {},
   "outputs": [],
   "source": []
  }
 ],
 "metadata": {
  "colab": {
   "name": "1.02a Python Review.ipynb",
   "provenance": []
  },
  "kernelspec": {
   "display_name": "Python 3 (ipykernel)",
   "language": "python",
   "name": "python3"
  },
  "language_info": {
   "codemirror_mode": {
    "name": "ipython",
    "version": 3
   },
   "file_extension": ".py",
   "mimetype": "text/x-python",
   "name": "python",
   "nbconvert_exporter": "python",
   "pygments_lexer": "ipython3",
   "version": "3.7.3"
  }
 },
 "nbformat": 4,
 "nbformat_minor": 1
}

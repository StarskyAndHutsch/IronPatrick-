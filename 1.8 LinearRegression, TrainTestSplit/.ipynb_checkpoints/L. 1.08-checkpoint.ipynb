{
 "cells": [
  {
   "cell_type": "markdown",
   "metadata": {
    "id": "qy4HeGNsysBL"
   },
   "source": [
    "# From Previous Lesson"
   ]
  },
  {
   "cell_type": "code",
   "execution_count": 1,
   "metadata": {
    "id": "GHgbm1YiysBO"
   },
   "outputs": [],
   "source": [
    "import pandas as pd\n",
    "import numpy as np\n",
    "import math\n",
    "from sklearn import linear_model"
   ]
  },
  {
   "cell_type": "code",
   "execution_count": 2,
   "metadata": {
    "id": "YEx8YHq5ysBP"
   },
   "outputs": [
    {
     "data": {
      "text/html": [
       "<div>\n",
       "<style scoped>\n",
       "    .dataframe tbody tr th:only-of-type {\n",
       "        vertical-align: middle;\n",
       "    }\n",
       "\n",
       "    .dataframe tbody tr th {\n",
       "        vertical-align: top;\n",
       "    }\n",
       "\n",
       "    .dataframe thead th {\n",
       "        text-align: right;\n",
       "    }\n",
       "</style>\n",
       "<table border=\"1\" class=\"dataframe\">\n",
       "  <thead>\n",
       "    <tr style=\"text-align: right;\">\n",
       "      <th></th>\n",
       "      <th>AVGGIFT</th>\n",
       "      <th>HV1_log</th>\n",
       "      <th>IC1_transformed</th>\n",
       "      <th>IC5_transformed</th>\n",
       "      <th>gender</th>\n",
       "      <th>TARGET_D</th>\n",
       "    </tr>\n",
       "  </thead>\n",
       "  <tbody>\n",
       "    <tr>\n",
       "      <th>0</th>\n",
       "      <td>15.500000</td>\n",
       "      <td>9.510467</td>\n",
       "      <td>17.343389</td>\n",
       "      <td>4.181353</td>\n",
       "      <td>Male</td>\n",
       "      <td>21.0</td>\n",
       "    </tr>\n",
       "    <tr>\n",
       "      <th>1</th>\n",
       "      <td>3.080000</td>\n",
       "      <td>6.458590</td>\n",
       "      <td>16.230984</td>\n",
       "      <td>4.150313</td>\n",
       "      <td>Male</td>\n",
       "      <td>3.0</td>\n",
       "    </tr>\n",
       "    <tr>\n",
       "      <th>2</th>\n",
       "      <td>7.500000</td>\n",
       "      <td>8.780623</td>\n",
       "      <td>18.047227</td>\n",
       "      <td>4.205057</td>\n",
       "      <td>Female</td>\n",
       "      <td>20.0</td>\n",
       "    </tr>\n",
       "    <tr>\n",
       "      <th>3</th>\n",
       "      <td>6.700000</td>\n",
       "      <td>6.200492</td>\n",
       "      <td>11.737110</td>\n",
       "      <td>4.055333</td>\n",
       "      <td>Male</td>\n",
       "      <td>5.0</td>\n",
       "    </tr>\n",
       "    <tr>\n",
       "      <th>4</th>\n",
       "      <td>8.785714</td>\n",
       "      <td>7.477123</td>\n",
       "      <td>12.494862</td>\n",
       "      <td>4.088969</td>\n",
       "      <td>Female</td>\n",
       "      <td>10.0</td>\n",
       "    </tr>\n",
       "  </tbody>\n",
       "</table>\n",
       "</div>"
      ],
      "text/plain": [
       "     AVGGIFT   HV1_log  IC1_transformed  IC5_transformed  gender  TARGET_D\n",
       "0  15.500000  9.510467        17.343389         4.181353    Male      21.0\n",
       "1   3.080000  6.458590        16.230984         4.150313    Male       3.0\n",
       "2   7.500000  8.780623        18.047227         4.205057  Female      20.0\n",
       "3   6.700000  6.200492        11.737110         4.055333    Male       5.0\n",
       "4   8.785714  7.477123        12.494862         4.088969  Female      10.0"
      ]
     },
     "execution_count": 2,
     "metadata": {},
     "output_type": "execute_result"
    }
   ],
   "source": [
    "#this data has been treated with some log transformations like we have seen yesterday\n",
    "data = pd.read_csv('regression_data_treated.csv')\n",
    "data.head()"
   ]
  },
  {
   "cell_type": "code",
   "execution_count": null,
   "metadata": {
    "id": "HA40VyvZysBR"
   },
   "outputs": [],
   "source": [
    "#separate the features from the labels\n",
    "y = data['TARGET_D']\n",
    "X = data.drop(['TARGET_D'], axis=1)"
   ]
  },
  {
   "cell_type": "code",
   "execution_count": null,
   "metadata": {
    "id": "t8I9C2JxgvaT"
   },
   "outputs": [],
   "source": [
    "X.head()"
   ]
  },
  {
   "cell_type": "code",
   "execution_count": null,
   "metadata": {
    "id": "EfCRYMzfysBR"
   },
   "outputs": [],
   "source": [
    "#categorical features and numerical ones are going to be treated differently\n",
    "X_num = X.select_dtypes(include = np.number)\n",
    "X_cat = X.select_dtypes(include = object)"
   ]
  },
  {
   "cell_type": "code",
   "execution_count": null,
   "metadata": {
    "id": "Shsn7YSwgvaX"
   },
   "outputs": [],
   "source": [
    "X_cat['gender'].unique()"
   ]
  },
  {
   "cell_type": "code",
   "execution_count": null,
   "metadata": {
    "id": "cePogA0MysBR"
   },
   "outputs": [],
   "source": [
    "# Normalizing and Standardizing data - only for numerical variables"
   ]
  },
  {
   "cell_type": "code",
   "execution_count": null,
   "metadata": {
    "id": "dTFmLR3sgvab"
   },
   "outputs": [],
   "source": [
    "X_num.describe().T"
   ]
  },
  {
   "cell_type": "code",
   "execution_count": null,
   "metadata": {
    "id": "PhAwqUMvysBS"
   },
   "outputs": [],
   "source": [
    "from sklearn.preprocessing import MinMaxScaler\n",
    "MinMaxtransformer = MinMaxScaler().fit(X_num)\n",
    "X_normalized = MinMaxtransformer.transform(X_num)\n",
    "print(X_normalized.shape)\n",
    "X_normalized = pd.DataFrame(X_normalized,columns=X_num.columns)\n",
    "X_normalized.head()"
   ]
  },
  {
   "cell_type": "code",
   "execution_count": null,
   "metadata": {
    "id": "K0I00IOCgvae"
   },
   "outputs": [],
   "source": [
    "X_normalized.describe().T"
   ]
  },
  {
   "cell_type": "code",
   "execution_count": null,
   "metadata": {
    "id": "9HC65853ysBS"
   },
   "outputs": [],
   "source": [
    "from sklearn.preprocessing import StandardScaler\n",
    "Standardtransformer = StandardScaler().fit(X_num)\n",
    "X_standardized = Standardtransformer.transform(X_num)\n",
    "print(X_standardized.shape)\n",
    "X_standardized = pd.DataFrame(X_standardized,columns=X_num.columns)\n",
    "X_standardized.head()"
   ]
  },
  {
   "cell_type": "code",
   "execution_count": null,
   "metadata": {
    "id": "X0skFxBkgvah"
   },
   "outputs": [],
   "source": [
    "X_standardized.describe().T"
   ]
  },
  {
   "cell_type": "markdown",
   "metadata": {
    "id": "vWPa24slysBS"
   },
   "source": [
    "# Lesson 1.08"
   ]
  },
  {
   "cell_type": "code",
   "execution_count": null,
   "metadata": {
    "id": "zWnOjycB-Xn0"
   },
   "outputs": [],
   "source": [
    "# Activity 1\n",
    "# Discussion on categorical variables: how would you currently handle categories? Should you have many or few?"
   ]
  },
  {
   "cell_type": "markdown",
   "metadata": {
    "id": "5IRHbI9XysBT"
   },
   "source": [
    "# Lesson 1 : categorical variables"
   ]
  },
  {
   "cell_type": "code",
   "execution_count": null,
   "metadata": {
    "id": "imFaZN7pysBT"
   },
   "outputs": [],
   "source": [
    "X_cat = data.select_dtypes(include = object)"
   ]
  },
  {
   "cell_type": "code",
   "execution_count": null,
   "metadata": {
    "id": "8Fxsh34860fh"
   },
   "outputs": [],
   "source": [
    "# in this case there is only one categorical variable\n",
    "X_cat.head()"
   ]
  },
  {
   "cell_type": "code",
   "execution_count": null,
   "metadata": {
    "id": "g7BZ2YU4gvam"
   },
   "outputs": [],
   "source": [
    "X_cat['gender'].value_counts()"
   ]
  },
  {
   "cell_type": "code",
   "execution_count": null,
   "metadata": {
    "id": "r7kpY4moysBU"
   },
   "outputs": [],
   "source": [
    "#one hot encoding is a way to turn categorical variables into multiple numerical columns\n",
    "from sklearn.preprocessing import OneHotEncoder\n",
    "#encoder = OneHotEncoder().fit(X_cat)\n",
    "encoder = OneHotEncoder(drop='first').fit(X_cat)\n",
    "print(encoder.categories_)\n",
    "encoded = encoder.transform(X_cat).toarray()\n",
    "print(encoded)\n",
    "#onehot_encoded = pd.DataFrame(encoded,columns=['Female', 'Male','U'])\n",
    "onehot_encoded = pd.DataFrame(encoded,columns=['Male', 'U'])\n",
    "onehot_encoded.head(20)"
   ]
  },
  {
   "cell_type": "code",
   "execution_count": null,
   "metadata": {
    "id": "E9TJ3U8Egvap"
   },
   "outputs": [],
   "source": []
  },
  {
   "cell_type": "code",
   "execution_count": null,
   "metadata": {
    "id": "jbmxbDE_9e31"
   },
   "outputs": [],
   "source": [
    "#because one of the variables can be deduced from the others, no point in keeping all these columns around\n",
    "# onehot_encoded = onehot_encoded.drop(['Female'],axis=1)\n",
    "# onehot_encoded.head()"
   ]
  },
  {
   "cell_type": "code",
   "execution_count": null,
   "metadata": {
    "id": "-k3FNwAqysBU"
   },
   "outputs": [],
   "source": [
    "#label encoding keeps just one column and makes it numerical, but watch out: you may be introducing unintended semantics\n",
    "#if you want to control which number gets assigned to which category, you can use OrdinalEncoder\n",
    "from sklearn.preprocessing import LabelEncoder\n",
    "label_encoded = LabelEncoder().fit(X_cat).transform(X_cat) # ordered wrt value counts\n",
    "label_encoded = pd.DataFrame(label_encoded,columns=X_cat.columns)\n",
    "display(label_encoded.head(20))\n",
    "label_encoded['gender'].value_counts()"
   ]
  },
  {
   "cell_type": "code",
   "execution_count": null,
   "metadata": {
    "id": "bY0zJUqmysBV"
   },
   "outputs": [],
   "source": [
    "# Activity 2\n",
    "# do it yourself. Which one do you think is more appropriate here?"
   ]
  },
  {
   "cell_type": "markdown",
   "metadata": {
    "id": "J95nrAzUysBV"
   },
   "source": [
    "# Lesson 2 : train-test split"
   ]
  },
  {
   "cell_type": "code",
   "execution_count": null,
   "metadata": {
    "id": "kH5VfQjBysBV"
   },
   "outputs": [],
   "source": [
    "# let's merge all this information together into a single dataset with all features, now numerical\n",
    "X = pd.concat([X_normalized, onehot_encoded], axis=1)  # np.concatenate()"
   ]
  },
  {
   "cell_type": "code",
   "execution_count": null,
   "metadata": {
    "id": "2B76mPxX_XA2"
   },
   "outputs": [],
   "source": [
    "X.head()"
   ]
  },
  {
   "cell_type": "code",
   "execution_count": null,
   "metadata": {
    "id": "Mw74s5WZBBEh"
   },
   "outputs": [],
   "source": [
    "y = data['TARGET_D']\n",
    "y.head()"
   ]
  },
  {
   "cell_type": "code",
   "execution_count": null,
   "metadata": {
    "id": "M09NplSrysBV"
   },
   "outputs": [],
   "source": [
    "# train test split is the way ML generates its claim to fame: \n",
    "# we build the model on a portion of the data but we then validate it in \n",
    "# another \"fresh\" portion\n",
    "# our model has no opportunity to \"cheat\": it must accurately guess the values \n",
    "# in the \"fresh\" dataset that it never saw before\n",
    "from sklearn.model_selection import train_test_split\n",
    "X_train, X_test, y_train, y_test = train_test_split(X, y, test_size=0.2, random_state=42)"
   ]
  },
  {
   "cell_type": "code",
   "execution_count": null,
   "metadata": {
    "id": "GZYRwtsYBMcr"
   },
   "outputs": [],
   "source": [
    "print(X_train.shape)\n",
    "print(X_test.shape)\n",
    "print(y_train.shape)\n",
    "print(y_test.shape)"
   ]
  },
  {
   "cell_type": "code",
   "execution_count": null,
   "metadata": {
    "id": "Gq3qQJlGBWSz"
   },
   "outputs": [],
   "source": [
    "X_train.head()"
   ]
  },
  {
   "cell_type": "code",
   "execution_count": null,
   "metadata": {
    "id": "l99OWrihBeHf"
   },
   "outputs": [],
   "source": [
    "y_train.head()"
   ]
  },
  {
   "cell_type": "code",
   "execution_count": null,
   "metadata": {
    "id": "VWLAHXk-ysBW"
   },
   "outputs": [],
   "source": [
    "#we train/fit our model like yesterday\n",
    "lm = linear_model.LinearRegression()\n",
    "lm.fit(X_train,y_train)\n",
    "\n"
   ]
  },
  {
   "cell_type": "code",
   "execution_count": null,
   "metadata": {
    "id": "BOU4t9mMgvaw"
   },
   "outputs": [],
   "source": [
    "from sklearn.metrics import r2_score\n",
    "predictions = lm.predict(X_train)\n",
    "r2_score(y_train, predictions)"
   ]
  },
  {
   "cell_type": "code",
   "execution_count": null,
   "metadata": {
    "id": "cn28iz2peS7E"
   },
   "outputs": [],
   "source": [
    "# But now we evaluate it in the TEST portion of the data, that we did not use for training.\n",
    "# This way we know our model is genuinely guessing our donations, not just repeating the values it has seen in the training data\n",
    "\n",
    "\n",
    "predictions_test = lm.predict(X_test)\n",
    "r2_score(y_test, predictions_test)"
   ]
  },
  {
   "cell_type": "code",
   "execution_count": null,
   "metadata": {
    "id": "UcV_4u4Ygvax"
   },
   "outputs": [],
   "source": [
    "y_test[:5]"
   ]
  },
  {
   "cell_type": "code",
   "execution_count": null,
   "metadata": {
    "id": "E1s0dMK0gvay"
   },
   "outputs": [],
   "source": [
    "predictions_test[:5]"
   ]
  },
  {
   "cell_type": "code",
   "execution_count": null,
   "metadata": {
    "id": "QFAzreSOgvay"
   },
   "outputs": [],
   "source": [
    "from sklearn.metrics import mean_squared_error\n",
    "mse=mean_squared_error(y_test,predictions_test)\n",
    "mse"
   ]
  },
  {
   "cell_type": "code",
   "execution_count": null,
   "metadata": {
    "id": "LWdikXE6gvaz"
   },
   "outputs": [],
   "source": [
    "rmse = np.sqrt(mean_squared_error(y_test,predictions_test))\n",
    "rmse"
   ]
  },
  {
   "cell_type": "code",
   "execution_count": null,
   "metadata": {
    "id": "pMPkfyEhgvaz"
   },
   "outputs": [],
   "source": [
    "y_test.mean()"
   ]
  },
  {
   "cell_type": "code",
   "execution_count": null,
   "metadata": {
    "id": "O7IUc023ysBW"
   },
   "outputs": [],
   "source": [
    "# to make predictions on the new data, \n",
    "# we have to process the data (X features) in the same way. "
   ]
  },
  {
   "cell_type": "code",
   "execution_count": null,
   "metadata": {
    "id": "GgONVwJ-ysBX"
   },
   "outputs": [],
   "source": [
    "# Activity 3a\n",
    "# take the file \"data_to_predict\" and find out how much those donors could be worth\n",
    "# watch out: is the data in the same format as what your training data currently looks like?\n"
   ]
  },
  {
   "cell_type": "code",
   "execution_count": null,
   "metadata": {
    "id": "yNzy52_3gva0"
   },
   "outputs": [],
   "source": [
    "#making the new data look like the transformed one may not be the most immediate exercise...\n",
    "\n",
    "\n"
   ]
  },
  {
   "cell_type": "code",
   "execution_count": null,
   "metadata": {
    "id": "04CbukZNgva1"
   },
   "outputs": [],
   "source": []
  },
  {
   "cell_type": "code",
   "execution_count": null,
   "metadata": {
    "id": "4Jg2Dztogva1"
   },
   "outputs": [],
   "source": []
  },
  {
   "cell_type": "code",
   "execution_count": null,
   "metadata": {
    "id": "g7ZjO_cWgva2"
   },
   "outputs": [],
   "source": []
  },
  {
   "cell_type": "code",
   "execution_count": null,
   "metadata": {
    "id": "WKeSf1pJgva2"
   },
   "outputs": [],
   "source": []
  },
  {
   "cell_type": "code",
   "execution_count": null,
   "metadata": {
    "id": "Q4dA1zZuSy6f"
   },
   "outputs": [],
   "source": []
  },
  {
   "cell_type": "code",
   "execution_count": null,
   "metadata": {
    "id": "cEZ2U2G7gva3"
   },
   "outputs": [],
   "source": []
  },
  {
   "cell_type": "markdown",
   "metadata": {
    "id": "6WdVfIPQysBX"
   },
   "source": [
    "# Lesson 3 : metrics"
   ]
  },
  {
   "cell_type": "code",
   "execution_count": null,
   "metadata": {
    "id": "wzDxlpmsGBjN"
   },
   "outputs": [],
   "source": [
    "from sklearn.metrics import mean_absolute_error, r2_score"
   ]
  },
  {
   "cell_type": "code",
   "execution_count": null,
   "metadata": {
    "id": "_8eLewSDysBY"
   },
   "outputs": [],
   "source": [
    "mae = mean_absolute_error(y_test, predictions_test)\n",
    "print(mae)"
   ]
  },
  {
   "cell_type": "code",
   "execution_count": null,
   "metadata": {
    "id": "CJGNR5hoysBY"
   },
   "outputs": [],
   "source": [
    "rmse = math.sqrt(mse)\n",
    "print(rmse)"
   ]
  },
  {
   "cell_type": "code",
   "execution_count": null,
   "metadata": {
    "id": "bWGAZW5lysBZ"
   },
   "outputs": [],
   "source": [
    "r2 = r2_score(y_test, predictions_test)\n",
    "r2"
   ]
  },
  {
   "cell_type": "code",
   "execution_count": null,
   "metadata": {
    "id": "KZ8fMSglgva6"
   },
   "outputs": [],
   "source": []
  },
  {
   "cell_type": "code",
   "execution_count": null,
   "metadata": {
    "id": "ZDeYp2jRgva8"
   },
   "outputs": [],
   "source": []
  },
  {
   "cell_type": "code",
   "execution_count": null,
   "metadata": {
    "id": "jzMx-9sJgva8"
   },
   "outputs": [],
   "source": []
  },
  {
   "cell_type": "code",
   "execution_count": null,
   "metadata": {
    "id": "nYu0VrO5MNEv"
   },
   "outputs": [],
   "source": [
    "\n",
    "df = pd.DataFrame([['a','c'],['b','d'],['a','e']],columns=['col1','col2'])"
   ]
  },
  {
   "cell_type": "code",
   "execution_count": null,
   "metadata": {
    "id": "HlHneyWIgva9",
    "scrolled": true
   },
   "outputs": [],
   "source": [
    "df"
   ]
  },
  {
   "cell_type": "code",
   "execution_count": null,
   "metadata": {
    "id": "XOyeB62ngva-"
   },
   "outputs": [],
   "source": [
    "encoder = OneHotEncoder().fit(df)\n",
    "encoded_for_p = encoder.transform(df).toarray()\n",
    "encoded_for_p\n",
    "display(encoder.categories_)\n",
    "cols = [colname for row in encoder.categories_ for colname in row]\n",
    "display(cols)\n",
    "onehot_encoded_for_p = pd.DataFrame(encoded_for_p, columns=cols)\n",
    "onehot_encoded_for_p\n",
    "cols_to_drop = [row[0] for row in encoder.categories_]\n",
    "cols_to_drop\n",
    "onehot_encoded_for_p = onehot_encoded_for_p.drop(cols_to_drop,axis=1)\n",
    "onehot_encoded_for_p.head()"
   ]
  },
  {
   "cell_type": "code",
   "execution_count": null,
   "metadata": {
    "id": "O9TtaIufgva_"
   },
   "outputs": [],
   "source": [
    "cols=[]\n",
    "for row in encoder.categories_:\n",
    "    for colname in row:\n",
    "        cols.append(colname)\n",
    "cols"
   ]
  },
  {
   "cell_type": "code",
   "execution_count": null,
   "metadata": {
    "id": "uGYBKPbzgva_"
   },
   "outputs": [],
   "source": [
    "# even simpler, without the list comprehensions:\n",
    "encoder2 = OneHotEncoder(drop='first').fit(df)\n",
    "encoded_for_p2 = encoder2.transform(df).toarray()\n",
    "encoded_for_p2\n",
    "cols = encoder2.get_feature_names(input_features=df.columns)\n",
    "cols\n",
    "# # Note: in version 1.0 and higher of sklearn this method is called 'get_feature_names_out()'\n",
    "# #cols\n",
    "onehot_encoded_for_p2 = pd.DataFrame(encoded_for_p2, columns=cols)\n",
    "onehot_encoded_for_p2.head()"
   ]
  },
  {
   "cell_type": "code",
   "execution_count": null,
   "metadata": {
    "id": "jFlljIqGgvbA"
   },
   "outputs": [],
   "source": []
  },
  {
   "cell_type": "code",
   "execution_count": null,
   "metadata": {
    "id": "B9SvZ5ingvbB"
   },
   "outputs": [],
   "source": []
  }
 ],
 "metadata": {
  "colab": {
   "collapsed_sections": [],
   "provenance": []
  },
  "kernelspec": {
   "display_name": "Python 3 (ipykernel)",
   "language": "python",
   "name": "python3"
  },
  "language_info": {
   "codemirror_mode": {
    "name": "ipython",
    "version": 3
   },
   "file_extension": ".py",
   "mimetype": "text/x-python",
   "name": "python",
   "nbconvert_exporter": "python",
   "pygments_lexer": "ipython3",
   "version": "3.9.12"
  },
  "toc": {
   "base_numbering": 1,
   "nav_menu": {},
   "number_sections": true,
   "sideBar": true,
   "skip_h1_title": false,
   "title_cell": "Table of Contents",
   "title_sidebar": "Contents",
   "toc_cell": false,
   "toc_position": {},
   "toc_section_display": true,
   "toc_window_display": false
  },
  "varInspector": {
   "cols": {
    "lenName": 16,
    "lenType": 16,
    "lenVar": 40
   },
   "kernels_config": {
    "python": {
     "delete_cmd_postfix": "",
     "delete_cmd_prefix": "del ",
     "library": "var_list.py",
     "varRefreshCmd": "print(var_dic_list())"
    },
    "r": {
     "delete_cmd_postfix": ") ",
     "delete_cmd_prefix": "rm(",
     "library": "var_list.r",
     "varRefreshCmd": "cat(var_dic_list()) "
    }
   },
   "types_to_exclude": [
    "module",
    "function",
    "builtin_function_or_method",
    "instance",
    "_Feature"
   ],
   "window_display": false
  }
 },
 "nbformat": 4,
 "nbformat_minor": 1
}

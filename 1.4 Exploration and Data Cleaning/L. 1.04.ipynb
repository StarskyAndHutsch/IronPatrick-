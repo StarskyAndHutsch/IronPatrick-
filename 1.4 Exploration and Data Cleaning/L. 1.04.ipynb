{
 "cells": [
  {
   "cell_type": "code",
   "execution_count": 2,
   "metadata": {
    "id": "soD15YZF6OmN",
    "outputId": "522d1d3c-6a28-400e-968f-75233cf9b162"
   },
   "outputs": [
    {
     "data": {
      "text/plain": [
       "(4001, 17)"
      ]
     },
     "execution_count": 2,
     "metadata": {},
     "output_type": "execute_result"
    }
   ],
   "source": [
    "# in case of new notebook, use the commented code to load the data:\n",
    "\n",
    "import pandas as pd\n",
    "\n",
    "file1 = pd.read_csv('./file1.csv')\n",
    "file2 = pd.read_csv('./file2.txt', sep = '\\t')\n",
    "file3 = pd.read_excel('./file3.xlsx')\n",
    "file4 = pd.read_excel('./file4.xlsx')\n",
    "column_names = file1.columns\n",
    "#donors = pd.DataFrame(columns=column_names)\n",
    "donors = pd.concat([file1,file2,file3,file4], axis=0)\n",
    "cols = []\n",
    "for colname in donors.columns:\n",
    "    cols.append(colname.lower())\n",
    "donors.columns = cols\n",
    "donors = donors.rename(columns={'controln':'id',\n",
    "                                'hv1':'median_home_val', \n",
    "                                'ic1':'median_household_income'})\n",
    "donors['median_home_val'] =  pd.to_numeric(donors['median_home_val'], errors='coerce')\n",
    "donors['ic5'] =  pd.to_numeric(donors['ic5'], errors='coerce')\n",
    "donors = donors.drop_duplicates()\n",
    "donors = donors.reset_index(drop=True)\n",
    "\n",
    "donors.shape\n"
   ]
  },
  {
   "cell_type": "code",
   "execution_count": 3,
   "metadata": {},
   "outputs": [
    {
     "data": {
      "text/html": [
       "<div>\n",
       "<style scoped>\n",
       "    .dataframe tbody tr th:only-of-type {\n",
       "        vertical-align: middle;\n",
       "    }\n",
       "\n",
       "    .dataframe tbody tr th {\n",
       "        vertical-align: top;\n",
       "    }\n",
       "\n",
       "    .dataframe thead th {\n",
       "        text-align: right;\n",
       "    }\n",
       "</style>\n",
       "<table border=\"1\" class=\"dataframe\">\n",
       "  <thead>\n",
       "    <tr style=\"text-align: right;\">\n",
       "      <th></th>\n",
       "      <th>id</th>\n",
       "      <th>state</th>\n",
       "      <th>gender</th>\n",
       "      <th>median_home_val</th>\n",
       "      <th>median_household_income</th>\n",
       "      <th>ic4</th>\n",
       "      <th>hvp1</th>\n",
       "      <th>ic5</th>\n",
       "      <th>pobc1</th>\n",
       "      <th>pobc2</th>\n",
       "      <th>ic2</th>\n",
       "      <th>ic3</th>\n",
       "      <th>avggift</th>\n",
       "      <th>tcode</th>\n",
       "      <th>dob</th>\n",
       "      <th>domain</th>\n",
       "      <th>target_d</th>\n",
       "    </tr>\n",
       "  </thead>\n",
       "  <tbody>\n",
       "    <tr>\n",
       "      <th>0</th>\n",
       "      <td>44060</td>\n",
       "      <td>FL</td>\n",
       "      <td>M</td>\n",
       "      <td>NaN</td>\n",
       "      <td>392</td>\n",
       "      <td>520.0</td>\n",
       "      <td>7</td>\n",
       "      <td>21975.0</td>\n",
       "      <td>6</td>\n",
       "      <td>16</td>\n",
       "      <td>430.0</td>\n",
       "      <td>466</td>\n",
       "      <td>28.000000</td>\n",
       "      <td>1</td>\n",
       "      <td>1901</td>\n",
       "      <td>C2</td>\n",
       "      <td>100.0</td>\n",
       "    </tr>\n",
       "    <tr>\n",
       "      <th>1</th>\n",
       "      <td>96093</td>\n",
       "      <td>IL</td>\n",
       "      <td>M</td>\n",
       "      <td>537.0</td>\n",
       "      <td>365</td>\n",
       "      <td>473.0</td>\n",
       "      <td>0</td>\n",
       "      <td>19387.0</td>\n",
       "      <td>1</td>\n",
       "      <td>89</td>\n",
       "      <td>415.0</td>\n",
       "      <td>410</td>\n",
       "      <td>5.666667</td>\n",
       "      <td>0</td>\n",
       "      <td>0</td>\n",
       "      <td>T2</td>\n",
       "      <td>7.0</td>\n",
       "    </tr>\n",
       "    <tr>\n",
       "      <th>2</th>\n",
       "      <td>43333</td>\n",
       "      <td>FL</td>\n",
       "      <td>F</td>\n",
       "      <td>725.0</td>\n",
       "      <td>301</td>\n",
       "      <td>436.0</td>\n",
       "      <td>3</td>\n",
       "      <td>18837.0</td>\n",
       "      <td>11</td>\n",
       "      <td>17</td>\n",
       "      <td>340.0</td>\n",
       "      <td>361</td>\n",
       "      <td>4.111111</td>\n",
       "      <td>0</td>\n",
       "      <td>2501</td>\n",
       "      <td>C2</td>\n",
       "      <td>5.0</td>\n",
       "    </tr>\n",
       "    <tr>\n",
       "      <th>3</th>\n",
       "      <td>21885</td>\n",
       "      <td>NC</td>\n",
       "      <td>M</td>\n",
       "      <td>NaN</td>\n",
       "      <td>401</td>\n",
       "      <td>413.0</td>\n",
       "      <td>7</td>\n",
       "      <td>14014.0</td>\n",
       "      <td>1</td>\n",
       "      <td>74</td>\n",
       "      <td>407.0</td>\n",
       "      <td>399</td>\n",
       "      <td>27.277778</td>\n",
       "      <td>0</td>\n",
       "      <td>2208</td>\n",
       "      <td>T2</td>\n",
       "      <td>38.0</td>\n",
       "    </tr>\n",
       "    <tr>\n",
       "      <th>4</th>\n",
       "      <td>190108</td>\n",
       "      <td>FL</td>\n",
       "      <td>F</td>\n",
       "      <td>995.0</td>\n",
       "      <td>252</td>\n",
       "      <td>348.0</td>\n",
       "      <td>0</td>\n",
       "      <td>17991.0</td>\n",
       "      <td>5</td>\n",
       "      <td>6</td>\n",
       "      <td>280.0</td>\n",
       "      <td>316</td>\n",
       "      <td>6.000000</td>\n",
       "      <td>28</td>\n",
       "      <td>0</td>\n",
       "      <td>C2</td>\n",
       "      <td>5.0</td>\n",
       "    </tr>\n",
       "  </tbody>\n",
       "</table>\n",
       "</div>"
      ],
      "text/plain": [
       "       id state gender  median_home_val  median_household_income    ic4  hvp1  \\\n",
       "0   44060    FL      M              NaN                      392  520.0     7   \n",
       "1   96093    IL      M            537.0                      365  473.0     0   \n",
       "2   43333    FL      F            725.0                      301  436.0     3   \n",
       "3   21885    NC      M              NaN                      401  413.0     7   \n",
       "4  190108    FL      F            995.0                      252  348.0     0   \n",
       "\n",
       "       ic5  pobc1  pobc2    ic2  ic3    avggift  tcode   dob domain  target_d  \n",
       "0  21975.0      6     16  430.0  466  28.000000      1  1901     C2     100.0  \n",
       "1  19387.0      1     89  415.0  410   5.666667      0     0     T2       7.0  \n",
       "2  18837.0     11     17  340.0  361   4.111111      0  2501     C2       5.0  \n",
       "3  14014.0      1     74  407.0  399  27.277778      0  2208     T2      38.0  \n",
       "4  17991.0      5      6  280.0  316   6.000000     28     0     C2       5.0  "
      ]
     },
     "execution_count": 3,
     "metadata": {},
     "output_type": "execute_result"
    }
   ],
   "source": [
    "donors.head()"
   ]
  },
  {
   "cell_type": "code",
   "execution_count": null,
   "metadata": {},
   "outputs": [],
   "source": []
  },
  {
   "cell_type": "code",
   "execution_count": 4,
   "metadata": {
    "id": "rMins2ug6OmQ",
    "outputId": "582d36b9-c97d-4573-c15b-442770a2966e"
   },
   "outputs": [
    {
     "data": {
      "text/plain": [
       "id                           int64\n",
       "state                       object\n",
       "gender                      object\n",
       "median_home_val            float64\n",
       "median_household_income      int64\n",
       "ic4                        float64\n",
       "hvp1                         int64\n",
       "ic5                        float64\n",
       "pobc1                        int64\n",
       "pobc2                        int64\n",
       "ic2                        float64\n",
       "ic3                          int64\n",
       "avggift                    float64\n",
       "tcode                        int64\n",
       "dob                          int64\n",
       "domain                      object\n",
       "target_d                   float64\n",
       "dtype: object"
      ]
     },
     "execution_count": 4,
     "metadata": {},
     "output_type": "execute_result"
    }
   ],
   "source": [
    "donors.dtypes\n",
    "#donors.head(25)"
   ]
  },
  {
   "cell_type": "code",
   "execution_count": 6,
   "metadata": {},
   "outputs": [
    {
     "data": {
      "text/plain": [
       "id                           0\n",
       "state                        0\n",
       "gender                     133\n",
       "median_home_val             10\n",
       "median_household_income      0\n",
       "ic4                          1\n",
       "hvp1                         0\n",
       "ic5                          6\n",
       "pobc1                        0\n",
       "pobc2                        0\n",
       "ic2                          1\n",
       "ic3                          0\n",
       "avggift                      0\n",
       "tcode                        0\n",
       "dob                          0\n",
       "domain                       0\n",
       "target_d                     0\n",
       "dtype: int64"
      ]
     },
     "execution_count": 6,
     "metadata": {},
     "output_type": "execute_result"
    }
   ],
   "source": [
    "donors.isna().sum()"
   ]
  },
  {
   "cell_type": "code",
   "execution_count": 10,
   "metadata": {
    "id": "5Rj2Ehsj6OmT",
    "outputId": "25ec607d-f978-41ce-a1b2-1938dffc3fe9"
   },
   "outputs": [
    {
     "data": {
      "text/html": [
       "<div>\n",
       "<style scoped>\n",
       "    .dataframe tbody tr th:only-of-type {\n",
       "        vertical-align: middle;\n",
       "    }\n",
       "\n",
       "    .dataframe tbody tr th {\n",
       "        vertical-align: top;\n",
       "    }\n",
       "\n",
       "    .dataframe thead th {\n",
       "        text-align: right;\n",
       "    }\n",
       "</style>\n",
       "<table border=\"1\" class=\"dataframe\">\n",
       "  <thead>\n",
       "    <tr style=\"text-align: right;\">\n",
       "      <th></th>\n",
       "      <th>header_name</th>\n",
       "      <th>percent_nulls</th>\n",
       "    </tr>\n",
       "  </thead>\n",
       "  <tbody>\n",
       "    <tr>\n",
       "      <th>0</th>\n",
       "      <td>id</td>\n",
       "      <td>0.00</td>\n",
       "    </tr>\n",
       "    <tr>\n",
       "      <th>1</th>\n",
       "      <td>state</td>\n",
       "      <td>0.00</td>\n",
       "    </tr>\n",
       "    <tr>\n",
       "      <th>2</th>\n",
       "      <td>gender</td>\n",
       "      <td>3.32</td>\n",
       "    </tr>\n",
       "    <tr>\n",
       "      <th>3</th>\n",
       "      <td>median_home_val</td>\n",
       "      <td>0.25</td>\n",
       "    </tr>\n",
       "    <tr>\n",
       "      <th>4</th>\n",
       "      <td>median_household_income</td>\n",
       "      <td>0.00</td>\n",
       "    </tr>\n",
       "    <tr>\n",
       "      <th>5</th>\n",
       "      <td>ic4</td>\n",
       "      <td>0.02</td>\n",
       "    </tr>\n",
       "    <tr>\n",
       "      <th>6</th>\n",
       "      <td>hvp1</td>\n",
       "      <td>0.00</td>\n",
       "    </tr>\n",
       "    <tr>\n",
       "      <th>7</th>\n",
       "      <td>ic5</td>\n",
       "      <td>0.15</td>\n",
       "    </tr>\n",
       "    <tr>\n",
       "      <th>8</th>\n",
       "      <td>pobc1</td>\n",
       "      <td>0.00</td>\n",
       "    </tr>\n",
       "    <tr>\n",
       "      <th>9</th>\n",
       "      <td>pobc2</td>\n",
       "      <td>0.00</td>\n",
       "    </tr>\n",
       "    <tr>\n",
       "      <th>10</th>\n",
       "      <td>ic2</td>\n",
       "      <td>0.02</td>\n",
       "    </tr>\n",
       "    <tr>\n",
       "      <th>11</th>\n",
       "      <td>ic3</td>\n",
       "      <td>0.00</td>\n",
       "    </tr>\n",
       "    <tr>\n",
       "      <th>12</th>\n",
       "      <td>avggift</td>\n",
       "      <td>0.00</td>\n",
       "    </tr>\n",
       "    <tr>\n",
       "      <th>13</th>\n",
       "      <td>tcode</td>\n",
       "      <td>0.00</td>\n",
       "    </tr>\n",
       "    <tr>\n",
       "      <th>14</th>\n",
       "      <td>dob</td>\n",
       "      <td>0.00</td>\n",
       "    </tr>\n",
       "    <tr>\n",
       "      <th>15</th>\n",
       "      <td>domain</td>\n",
       "      <td>0.00</td>\n",
       "    </tr>\n",
       "    <tr>\n",
       "      <th>16</th>\n",
       "      <td>target_d</td>\n",
       "      <td>0.00</td>\n",
       "    </tr>\n",
       "  </tbody>\n",
       "</table>\n",
       "</div>"
      ],
      "text/plain": [
       "                header_name  percent_nulls\n",
       "0                        id           0.00\n",
       "1                     state           0.00\n",
       "2                    gender           3.32\n",
       "3           median_home_val           0.25\n",
       "4   median_household_income           0.00\n",
       "5                       ic4           0.02\n",
       "6                      hvp1           0.00\n",
       "7                       ic5           0.15\n",
       "8                     pobc1           0.00\n",
       "9                     pobc2           0.00\n",
       "10                      ic2           0.02\n",
       "11                      ic3           0.00\n",
       "12                  avggift           0.00\n",
       "13                    tcode           0.00\n",
       "14                      dob           0.00\n",
       "15                   domain           0.00\n",
       "16                 target_d           0.00"
      ]
     },
     "execution_count": 10,
     "metadata": {},
     "output_type": "execute_result"
    }
   ],
   "source": [
    "\n",
    "round(donors.isna().sum()/len(donors),4)*100  # shows the percentage of null values in a column\n",
    "nulls_df = pd.DataFrame(round(donors.isna().sum()/len(donors),4)*100)\n",
    "nulls_df\n",
    "nulls_df = nulls_df.reset_index()\n",
    "nulls_df\n",
    "nulls_df.columns = ['header_name', 'percent_nulls']\n",
    "nulls_df"
   ]
  },
  {
   "cell_type": "code",
   "execution_count": 11,
   "metadata": {
    "id": "suNRjWOP6OmU",
    "outputId": "9ebfa6b1-c5e5-405f-cff9-3da8c0dc1b9b"
   },
   "outputs": [
    {
     "name": "stdout",
     "output_type": "stream",
     "text": [
      "['gender']\n"
     ]
    }
   ],
   "source": [
    "columns_drop = nulls_df[nulls_df['percent_nulls']>3]['header_name']  # dummy case with 3\n",
    "print(columns_drop.values)\n",
    "#donors = donors.drop(columns_drop, axis=1)  # drop a list of columns DO NOT RUN THIS\n",
    "#donors = donors.drop(['gender'], axis=1)  # drop a single column DO NOT RUN THIS"
   ]
  },
  {
   "cell_type": "code",
   "execution_count": 13,
   "metadata": {
    "id": "e2LVHZqU6OmU",
    "outputId": "b9515dbc-0999-49bd-9f30-d0aafeab7d61"
   },
   "outputs": [
    {
     "data": {
      "text/html": [
       "<div>\n",
       "<style scoped>\n",
       "    .dataframe tbody tr th:only-of-type {\n",
       "        vertical-align: middle;\n",
       "    }\n",
       "\n",
       "    .dataframe tbody tr th {\n",
       "        vertical-align: top;\n",
       "    }\n",
       "\n",
       "    .dataframe thead th {\n",
       "        text-align: right;\n",
       "    }\n",
       "</style>\n",
       "<table border=\"1\" class=\"dataframe\">\n",
       "  <thead>\n",
       "    <tr style=\"text-align: right;\">\n",
       "      <th></th>\n",
       "      <th>id</th>\n",
       "      <th>state</th>\n",
       "      <th>gender</th>\n",
       "      <th>median_home_val</th>\n",
       "      <th>median_household_income</th>\n",
       "      <th>ic4</th>\n",
       "      <th>hvp1</th>\n",
       "      <th>ic5</th>\n",
       "      <th>pobc1</th>\n",
       "      <th>pobc2</th>\n",
       "      <th>ic2</th>\n",
       "      <th>ic3</th>\n",
       "      <th>avggift</th>\n",
       "      <th>tcode</th>\n",
       "      <th>dob</th>\n",
       "      <th>domain</th>\n",
       "      <th>target_d</th>\n",
       "    </tr>\n",
       "  </thead>\n",
       "  <tbody>\n",
       "    <tr>\n",
       "      <th>0</th>\n",
       "      <td>44060</td>\n",
       "      <td>FL</td>\n",
       "      <td>M</td>\n",
       "      <td>NaN</td>\n",
       "      <td>392</td>\n",
       "      <td>520.0</td>\n",
       "      <td>7</td>\n",
       "      <td>21975.0</td>\n",
       "      <td>6</td>\n",
       "      <td>16</td>\n",
       "      <td>430.0</td>\n",
       "      <td>466</td>\n",
       "      <td>28.000000</td>\n",
       "      <td>1</td>\n",
       "      <td>1901</td>\n",
       "      <td>C2</td>\n",
       "      <td>100.0</td>\n",
       "    </tr>\n",
       "    <tr>\n",
       "      <th>3</th>\n",
       "      <td>21885</td>\n",
       "      <td>NC</td>\n",
       "      <td>M</td>\n",
       "      <td>NaN</td>\n",
       "      <td>401</td>\n",
       "      <td>413.0</td>\n",
       "      <td>7</td>\n",
       "      <td>14014.0</td>\n",
       "      <td>1</td>\n",
       "      <td>74</td>\n",
       "      <td>407.0</td>\n",
       "      <td>399</td>\n",
       "      <td>27.277778</td>\n",
       "      <td>0</td>\n",
       "      <td>2208</td>\n",
       "      <td>T2</td>\n",
       "      <td>38.0</td>\n",
       "    </tr>\n",
       "    <tr>\n",
       "      <th>8</th>\n",
       "      <td>173223</td>\n",
       "      <td>CA</td>\n",
       "      <td>F</td>\n",
       "      <td>NaN</td>\n",
       "      <td>184</td>\n",
       "      <td>250.0</td>\n",
       "      <td>0</td>\n",
       "      <td>8708.0</td>\n",
       "      <td>2</td>\n",
       "      <td>63</td>\n",
       "      <td>206.0</td>\n",
       "      <td>235</td>\n",
       "      <td>8.818182</td>\n",
       "      <td>0</td>\n",
       "      <td>1801</td>\n",
       "      <td>T2</td>\n",
       "      <td>10.0</td>\n",
       "    </tr>\n",
       "    <tr>\n",
       "      <th>9</th>\n",
       "      <td>157988</td>\n",
       "      <td>CA</td>\n",
       "      <td>F</td>\n",
       "      <td>NaN</td>\n",
       "      <td>593</td>\n",
       "      <td>617.0</td>\n",
       "      <td>61</td>\n",
       "      <td>17838.0</td>\n",
       "      <td>7</td>\n",
       "      <td>62</td>\n",
       "      <td>NaN</td>\n",
       "      <td>619</td>\n",
       "      <td>6.666667</td>\n",
       "      <td>28</td>\n",
       "      <td>0</td>\n",
       "      <td>S1</td>\n",
       "      <td>10.0</td>\n",
       "    </tr>\n",
       "    <tr>\n",
       "      <th>35</th>\n",
       "      <td>116894</td>\n",
       "      <td>TX</td>\n",
       "      <td>M</td>\n",
       "      <td>NaN</td>\n",
       "      <td>368</td>\n",
       "      <td>531.0</td>\n",
       "      <td>5</td>\n",
       "      <td>33797.0</td>\n",
       "      <td>2</td>\n",
       "      <td>42</td>\n",
       "      <td>457.0</td>\n",
       "      <td>450</td>\n",
       "      <td>12.250000</td>\n",
       "      <td>1</td>\n",
       "      <td>2201</td>\n",
       "      <td>U1</td>\n",
       "      <td>20.0</td>\n",
       "    </tr>\n",
       "    <tr>\n",
       "      <th>3000</th>\n",
       "      <td>186307</td>\n",
       "      <td>CA</td>\n",
       "      <td>M</td>\n",
       "      <td>NaN</td>\n",
       "      <td>345</td>\n",
       "      <td>438.0</td>\n",
       "      <td>3</td>\n",
       "      <td>15915.0</td>\n",
       "      <td>2</td>\n",
       "      <td>58</td>\n",
       "      <td>388.0</td>\n",
       "      <td>417</td>\n",
       "      <td>16.142857</td>\n",
       "      <td>1</td>\n",
       "      <td>2511</td>\n",
       "      <td>C2</td>\n",
       "      <td>20.0</td>\n",
       "    </tr>\n",
       "    <tr>\n",
       "      <th>3005</th>\n",
       "      <td>150799</td>\n",
       "      <td>CA</td>\n",
       "      <td>M</td>\n",
       "      <td>NaN</td>\n",
       "      <td>257</td>\n",
       "      <td>393.0</td>\n",
       "      <td>8</td>\n",
       "      <td>10990.0</td>\n",
       "      <td>19</td>\n",
       "      <td>51</td>\n",
       "      <td>275.0</td>\n",
       "      <td>376</td>\n",
       "      <td>7.625000</td>\n",
       "      <td>1</td>\n",
       "      <td>0</td>\n",
       "      <td>U3</td>\n",
       "      <td>15.0</td>\n",
       "    </tr>\n",
       "    <tr>\n",
       "      <th>3014</th>\n",
       "      <td>38392</td>\n",
       "      <td>FL</td>\n",
       "      <td>F</td>\n",
       "      <td>NaN</td>\n",
       "      <td>408</td>\n",
       "      <td>464.0</td>\n",
       "      <td>11</td>\n",
       "      <td>13050.0</td>\n",
       "      <td>67</td>\n",
       "      <td>26</td>\n",
       "      <td>415.0</td>\n",
       "      <td>452</td>\n",
       "      <td>20.000000</td>\n",
       "      <td>0</td>\n",
       "      <td>3401</td>\n",
       "      <td>U2</td>\n",
       "      <td>20.0</td>\n",
       "    </tr>\n",
       "    <tr>\n",
       "      <th>3174</th>\n",
       "      <td>171205</td>\n",
       "      <td>CA</td>\n",
       "      <td>F</td>\n",
       "      <td>NaN</td>\n",
       "      <td>205</td>\n",
       "      <td>388.0</td>\n",
       "      <td>4</td>\n",
       "      <td>22845.0</td>\n",
       "      <td>4</td>\n",
       "      <td>71</td>\n",
       "      <td>221.0</td>\n",
       "      <td>337</td>\n",
       "      <td>7.454545</td>\n",
       "      <td>228</td>\n",
       "      <td>0</td>\n",
       "      <td>R2</td>\n",
       "      <td>12.0</td>\n",
       "    </tr>\n",
       "    <tr>\n",
       "      <th>3201</th>\n",
       "      <td>190408</td>\n",
       "      <td>FL</td>\n",
       "      <td>NaN</td>\n",
       "      <td>NaN</td>\n",
       "      <td>255</td>\n",
       "      <td>331.0</td>\n",
       "      <td>0</td>\n",
       "      <td>13727.0</td>\n",
       "      <td>13</td>\n",
       "      <td>7</td>\n",
       "      <td>273.0</td>\n",
       "      <td>294</td>\n",
       "      <td>6.600000</td>\n",
       "      <td>0</td>\n",
       "      <td>3104</td>\n",
       "      <td>C2</td>\n",
       "      <td>7.0</td>\n",
       "    </tr>\n",
       "  </tbody>\n",
       "</table>\n",
       "</div>"
      ],
      "text/plain": [
       "          id state gender  median_home_val  median_household_income    ic4  \\\n",
       "0      44060    FL      M              NaN                      392  520.0   \n",
       "3      21885    NC      M              NaN                      401  413.0   \n",
       "8     173223    CA      F              NaN                      184  250.0   \n",
       "9     157988    CA      F              NaN                      593  617.0   \n",
       "35    116894    TX      M              NaN                      368  531.0   \n",
       "3000  186307    CA      M              NaN                      345  438.0   \n",
       "3005  150799    CA      M              NaN                      257  393.0   \n",
       "3014   38392    FL      F              NaN                      408  464.0   \n",
       "3174  171205    CA      F              NaN                      205  388.0   \n",
       "3201  190408    FL    NaN              NaN                      255  331.0   \n",
       "\n",
       "      hvp1      ic5  pobc1  pobc2    ic2  ic3    avggift  tcode   dob domain  \\\n",
       "0        7  21975.0      6     16  430.0  466  28.000000      1  1901     C2   \n",
       "3        7  14014.0      1     74  407.0  399  27.277778      0  2208     T2   \n",
       "8        0   8708.0      2     63  206.0  235   8.818182      0  1801     T2   \n",
       "9       61  17838.0      7     62    NaN  619   6.666667     28     0     S1   \n",
       "35       5  33797.0      2     42  457.0  450  12.250000      1  2201     U1   \n",
       "3000     3  15915.0      2     58  388.0  417  16.142857      1  2511     C2   \n",
       "3005     8  10990.0     19     51  275.0  376   7.625000      1     0     U3   \n",
       "3014    11  13050.0     67     26  415.0  452  20.000000      0  3401     U2   \n",
       "3174     4  22845.0      4     71  221.0  337   7.454545    228     0     R2   \n",
       "3201     0  13727.0     13      7  273.0  294   6.600000      0  3104     C2   \n",
       "\n",
       "      target_d  \n",
       "0        100.0  \n",
       "3         38.0  \n",
       "8         10.0  \n",
       "9         10.0  \n",
       "35        20.0  \n",
       "3000      20.0  \n",
       "3005      15.0  \n",
       "3014      20.0  \n",
       "3174      12.0  \n",
       "3201       7.0  "
      ]
     },
     "execution_count": 13,
     "metadata": {},
     "output_type": "execute_result"
    }
   ],
   "source": [
    "# Replacing/imputing null values\n",
    "\n",
    "donors[donors['median_home_val'].isna()==True].head(60) # checking rows that are null based on a specific column\n"
   ]
  },
  {
   "cell_type": "code",
   "execution_count": 14,
   "metadata": {
    "id": "MyE-hfRD6OmV",
    "outputId": "fc44cec3-2448-471a-d367-d26d85bedf0c"
   },
   "outputs": [
    {
     "data": {
      "text/plain": [
       "id                           0\n",
       "state                        0\n",
       "gender                     133\n",
       "median_home_val              9\n",
       "median_household_income      0\n",
       "ic4                          1\n",
       "hvp1                         0\n",
       "ic5                          6\n",
       "pobc1                        0\n",
       "pobc2                        0\n",
       "ic2                          0\n",
       "ic3                          0\n",
       "avggift                      0\n",
       "tcode                        0\n",
       "dob                          0\n",
       "domain                       0\n",
       "target_d                     0\n",
       "dtype: int64"
      ]
     },
     "execution_count": 14,
     "metadata": {},
     "output_type": "execute_result"
    }
   ],
   "source": [
    "# strategy: drop rows that have null values (only if there are very few)\n",
    "donors = donors[donors['ic2'].isna()==False] # Since these nulls are not a lot, we can filter them\n",
    "\n",
    "donors.isna().sum()\n",
    "# donors.shape"
   ]
  },
  {
   "cell_type": "code",
   "execution_count": 16,
   "metadata": {
    "id": "zlnPHp7E6OmV"
   },
   "outputs": [],
   "source": [
    "# strategy: impute a value for the missing value (fill in a value that we choose or calculate)\n",
    "# import numpy\n",
    "import numpy as np\n",
    "mean_median_home_value = donors['median_home_val'].mean()\n",
    "mean_median_home_value\n",
    "donors['median_home_val'] = donors['median_home_val'].fillna(mean_median_home_value)"
   ]
  },
  {
   "cell_type": "code",
   "execution_count": 17,
   "metadata": {},
   "outputs": [
    {
     "data": {
      "text/plain": [
       "1157.3292407917818"
      ]
     },
     "execution_count": 17,
     "metadata": {},
     "output_type": "execute_result"
    }
   ],
   "source": [
    "donors['median_home_val'].mean()"
   ]
  },
  {
   "cell_type": "code",
   "execution_count": 18,
   "metadata": {
    "id": "rFeRxcaW6OmW",
    "outputId": "0669b945-bbd2-4dc0-a9ac-f124f2121f8d"
   },
   "outputs": [
    {
     "data": {
      "text/plain": [
       "id                           0\n",
       "state                        0\n",
       "gender                     133\n",
       "median_home_val              0\n",
       "median_household_income      0\n",
       "ic4                          1\n",
       "hvp1                         0\n",
       "ic5                          6\n",
       "pobc1                        0\n",
       "pobc2                        0\n",
       "ic2                          0\n",
       "ic3                          0\n",
       "avggift                      0\n",
       "tcode                        0\n",
       "dob                          0\n",
       "domain                       0\n",
       "target_d                     0\n",
       "dtype: int64"
      ]
     },
     "execution_count": 18,
     "metadata": {},
     "output_type": "execute_result"
    }
   ],
   "source": [
    "donors.isna().sum()"
   ]
  },
  {
   "cell_type": "code",
   "execution_count": null,
   "metadata": {
    "id": "aZD7865J6OmX"
   },
   "outputs": [],
   "source": [
    "#Activity 1"
   ]
  },
  {
   "cell_type": "markdown",
   "metadata": {
    "id": "SJANC1666Omb"
   },
   "source": [
    "Refer to the file files_for_activities/file1.csv for this exercise.\n",
    "\n",
    "Load data (file1.csv) in a new Jupyter notebook.\n",
    "Write the code to clean the columns 'ic4' and 'ic5' of null values in the dataframe.\n",
    "Use the head() to check the new dataframe."
   ]
  },
  {
   "cell_type": "code",
   "execution_count": null,
   "metadata": {
    "id": "95VEkHyj6Omc"
   },
   "outputs": [],
   "source": []
  },
  {
   "cell_type": "code",
   "execution_count": null,
   "metadata": {
    "id": "L3nG2Hh46Omd"
   },
   "outputs": [],
   "source": [
    "#End of Activity 1"
   ]
  },
  {
   "cell_type": "code",
   "execution_count": 23,
   "metadata": {
    "id": "g9G2_4Qp6Omd",
    "outputId": "155413fc-476f-4d7f-ec8b-478477c2556c"
   },
   "outputs": [
    {
     "data": {
      "text/plain": [
       "F          1954\n",
       "M          1466\n",
       "NaN         133\n",
       "male        126\n",
       "female      106\n",
       "Female       75\n",
       "U            68\n",
       "Male         33\n",
       "J            23\n",
       "feamale      15\n",
       "A             1\n",
       "Name: gender, dtype: int64"
      ]
     },
     "execution_count": 23,
     "metadata": {},
     "output_type": "execute_result"
    }
   ],
   "source": [
    "# Replacing null values for categorical variables\n",
    "donors['gender'].unique()\n",
    "donors['gender'].value_counts()\n",
    "\n",
    "donors['gender'].value_counts(dropna=False)\n",
    "#len(donors[donors['gender'].isna()==True])  # number of missing values\n"
   ]
  },
  {
   "cell_type": "code",
   "execution_count": 24,
   "metadata": {
    "id": "g4w5NK0X6Ome",
    "outputId": "3c84283c-6155-40fd-a30d-688fee70046a"
   },
   "outputs": [
    {
     "data": {
      "text/plain": [
       "0"
      ]
     },
     "execution_count": 24,
     "metadata": {},
     "output_type": "execute_result"
    }
   ],
   "source": [
    "# use most common value to fillna\n",
    "donors['gender'] = donors['gender'].fillna('F')\n",
    "len(donors[donors['gender'].isna()==True]) # now this number is 0\n",
    "\n"
   ]
  },
  {
   "cell_type": "code",
   "execution_count": 25,
   "metadata": {
    "id": "bAS2kVvl6Ome"
   },
   "outputs": [],
   "source": [
    "# Exporting this processed data to a csv\n",
    "donors.to_csv('merged_clean_ver1.csv') # you can find this file inside files_for_lesson_and_activities folder"
   ]
  },
  {
   "cell_type": "code",
   "execution_count": 26,
   "metadata": {},
   "outputs": [
    {
     "data": {
      "text/plain": [
       "F          2087\n",
       "M          1466\n",
       "male        126\n",
       "female      106\n",
       "Female       75\n",
       "U            68\n",
       "Male         33\n",
       "J            23\n",
       "feamale      15\n",
       "A             1\n",
       "Name: gender, dtype: int64"
      ]
     },
     "execution_count": 26,
     "metadata": {},
     "output_type": "execute_result"
    }
   ],
   "source": [
    "donors['gender'].value_counts(dropna=False)"
   ]
  },
  {
   "cell_type": "code",
   "execution_count": null,
   "metadata": {
    "id": "IgqB66Bl6Omf"
   },
   "outputs": [],
   "source": [
    "#Activity 2\n"
   ]
  },
  {
   "cell_type": "code",
   "execution_count": null,
   "metadata": {
    "id": "pdg5Ntuo6Omf"
   },
   "outputs": [],
   "source": [
    "# Refer to the file files_for_activities/merged_clean_ver1.csv for this exercise.\n",
    "\n",
    "#1 Import the data from merged_clean_ver1.csv as a dataframe. There would be a column with the sequence of numbers (to the left of column id). Drop that column(s).\n"
   ]
  },
  {
   "cell_type": "code",
   "execution_count": null,
   "metadata": {
    "id": "qjIGzPiJ6Omf"
   },
   "outputs": [],
   "source": []
  },
  {
   "cell_type": "code",
   "execution_count": null,
   "metadata": {
    "id": "rUWwdEft6Omf"
   },
   "outputs": [],
   "source": [
    "# 2 Check the column state for null values. Replace those null values with the state that is represented largest number of times in that column\n"
   ]
  },
  {
   "cell_type": "code",
   "execution_count": null,
   "metadata": {
    "id": "FNFYNcCX6Omm"
   },
   "outputs": [],
   "source": [
    "#End of Activity 2\n"
   ]
  },
  {
   "cell_type": "code",
   "execution_count": null,
   "metadata": {},
   "outputs": [],
   "source": [
    "donors.columns"
   ]
  },
  {
   "cell_type": "code",
   "execution_count": 27,
   "metadata": {
    "id": "1F2iznmd6Omm",
    "outputId": "0eb299e4-532b-4016-d98e-49924247997c"
   },
   "outputs": [
    {
     "data": {
      "text/plain": [
       "array(['M', 'F', 'FEMALE', 'MALE', 'U', 'J', 'FEAMALE', 'A'], dtype=object)"
      ]
     },
     "execution_count": 27,
     "metadata": {},
     "output_type": "execute_result"
    }
   ],
   "source": [
    "# map functions\n",
    "# list(map(len, donors.columns))\n",
    "# list(map(lambda el: el.upper(), donors.columns)) # we did this with a for loop earlier\n",
    "# # # donors\n",
    "donors['gender'].unique() # check the unique values in the column\n",
    "donors['gender'] = list(map(lambda x: x.upper(), donors['gender']))\n",
    "donors['gender'].unique()"
   ]
  },
  {
   "cell_type": "code",
   "execution_count": 28,
   "metadata": {
    "id": "zdwzUgqx6Omm",
    "outputId": "ba87485c-d273-4813-fabb-e6cba533affb"
   },
   "outputs": [
    {
     "data": {
      "text/plain": [
       "array(['Male', 'Female', 'U'], dtype=object)"
      ]
     },
     "execution_count": 28,
     "metadata": {},
     "output_type": "execute_result"
    }
   ],
   "source": [
    "#donors['gender'].unique()  # check the unique elements in the column\n",
    "# Now define a function to clean the column\n",
    "def clean(x):\n",
    "    if x in ['M', 'MALE']:\n",
    "        return 'Male'\n",
    "    elif x.startswith('F'):\n",
    "        return 'Female'\n",
    "    else:\n",
    "        return 'U'\n",
    "\n",
    "donors['gender'] = list(map(clean, donors['gender']))\n",
    "donors['gender'].unique()  # To check the results again\n",
    "\n",
    "\n"
   ]
  },
  {
   "cell_type": "code",
   "execution_count": 29,
   "metadata": {
    "id": "XBUUie-J6Omn"
   },
   "outputs": [
    {
     "data": {
      "text/plain": [
       "Female    2283\n",
       "Male      1625\n",
       "U           92\n",
       "Name: gender, dtype: int64"
      ]
     },
     "execution_count": 29,
     "metadata": {},
     "output_type": "execute_result"
    }
   ],
   "source": [
    "donors['gender'].value_counts()"
   ]
  },
  {
   "cell_type": "code",
   "execution_count": null,
   "metadata": {
    "id": "FFZweIFz6Omn"
   },
   "outputs": [],
   "source": []
  },
  {
   "cell_type": "code",
   "execution_count": null,
   "metadata": {
    "id": "AFE5Bw2j6Omo"
   },
   "outputs": [],
   "source": [
    "# Examples of working with datetime format:\n",
    "\n",
    "file = pd.read_csv('df_final_web_data_pt_1.csv')\n",
    "file.head()\n",
    "\n",
    "file['date_time'] = pd.to_datetime(file['date_time'], errors='coerce')\n",
    "file.head()\n",
    "\n"
   ]
  },
  {
   "cell_type": "code",
   "execution_count": null,
   "metadata": {},
   "outputs": [],
   "source": [
    "file['date_time'][0]"
   ]
  },
  {
   "cell_type": "code",
   "execution_count": null,
   "metadata": {
    "id": "6DsxCKrn6Omo"
   },
   "outputs": [],
   "source": [
    "file['date_time'][0].day\n",
    "file['date_time'][0].month\n",
    "file['date_time'][0].year\n",
    "file['date_time'][0].isoweekday()  # Returns 1 for Monday and so on\n",
    "\n",
    "file['date_time'][0].time()\n",
    "file['date_time'][0].isoweekday()\n",
    "file['date_time'][0].isoformat()\n",
    "file['date_time'][0].strftime(format='%d-%m-%Y')\n",
    "file['date_time'][0].strftime(format=\"%A %d. %B %Y\")\n",
    "\n"
   ]
  },
  {
   "cell_type": "code",
   "execution_count": null,
   "metadata": {},
   "outputs": [],
   "source": []
  },
  {
   "cell_type": "code",
   "execution_count": null,
   "metadata": {
    "id": "WOoJuurn6Omo"
   },
   "outputs": [],
   "source": [
    "import time\n",
    "from datetime import date\n",
    "\n",
    "today = date.today()\n",
    "today.strftime(format='%d-%m-%Y')\n",
    "\n",
    "time.localtime(time.time())\n",
    "time.gmtime(time.time())"
   ]
  },
  {
   "cell_type": "code",
   "execution_count": null,
   "metadata": {
    "id": "VAKCY9L_6Omq",
    "outputId": "f81c7908-3dab-43ec-a44c-728300074b22"
   },
   "outputs": [],
   "source": [
    "# Examples of working with string functions\n",
    "\n",
    "string = \" I am learning  data  analysis at Ironhack  . It is  super easy \"\n",
    "string.lower()\n",
    "string.upper()\n",
    "'34'.isdigit() # does not work with decimal numbers\n",
    "str2 = '42'\n",
    "str2.isdigit()\n",
    "string = string.lstrip()\n",
    "string\n",
    "string.rstrip()\n",
    "string.split()\n",
    "string.split('.')\n",
    "string.replace('  ', ' ')"
   ]
  },
  {
   "cell_type": "code",
   "execution_count": null,
   "metadata": {
    "id": "E3vsWMXi6Omr"
   },
   "outputs": [],
   "source": [
    "#Acticity 4\n",
    "# Create a user-defined method to clean the column state in the dataframe.\n",
    "# Use string functions to standardize the states to uppercase and use the strip function to clean the strings as well.\n",
    "data['state'].unique()\n",
    "\n",
    "def clean(x):\n",
    "    x = x.upper()\n",
    "    x = x.strip()\n",
    "    if x in ['AZ', 'ARIZONA']:\n",
    "        return 'AZ'\n",
    "    elif x in ['CA', 'CALIFORNIA', 'CALI']:\n",
    "        return 'CA'\n",
    "    elif x in ['TN', 'TENNESSEE']:\n",
    "        return 'TN'\n",
    "    else:\n",
    "        return x\n",
    "\n",
    "\n"
   ]
  },
  {
   "cell_type": "code",
   "execution_count": null,
   "metadata": {
    "id": "WO1Kg0hI6Omw"
   },
   "outputs": [],
   "source": [
    "data['state'] = list(map(clean,data['state']))\n",
    "\n",
    "data['state'].unique()"
   ]
  },
  {
   "cell_type": "code",
   "execution_count": null,
   "metadata": {
    "id": "DuN-cvr56Omw"
   },
   "outputs": [],
   "source": [
    "#End Activity 4"
   ]
  },
  {
   "cell_type": "code",
   "execution_count": null,
   "metadata": {
    "id": "a564SfHc6Omw"
   },
   "outputs": [],
   "source": [
    "# Exporting this processed data to a csv\n",
    "donors.to_csv('merged_clean_ver2.csv') "
   ]
  },
  {
   "cell_type": "code",
   "execution_count": null,
   "metadata": {
    "id": "kvfmuntV6Omx"
   },
   "outputs": [],
   "source": []
  },
  {
   "cell_type": "code",
   "execution_count": null,
   "metadata": {
    "id": "heN4HZNn6Om0"
   },
   "outputs": [],
   "source": []
  },
  {
   "cell_type": "code",
   "execution_count": null,
   "metadata": {
    "id": "_Ye26dNM6Om1"
   },
   "outputs": [],
   "source": []
  }
 ],
 "metadata": {
  "colab": {
   "name": "1.4 lesson.ipynb",
   "provenance": []
  },
  "kernelspec": {
   "display_name": "Python 3 (ipykernel)",
   "language": "python",
   "name": "python3"
  },
  "language_info": {
   "codemirror_mode": {
    "name": "ipython",
    "version": 3
   },
   "file_extension": ".py",
   "mimetype": "text/x-python",
   "name": "python",
   "nbconvert_exporter": "python",
   "pygments_lexer": "ipython3",
   "version": "3.7.3"
  }
 },
 "nbformat": 4,
 "nbformat_minor": 1
}

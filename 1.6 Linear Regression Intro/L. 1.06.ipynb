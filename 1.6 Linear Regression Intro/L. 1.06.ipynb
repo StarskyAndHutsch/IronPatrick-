{
 "cells": [
  {
   "cell_type": "markdown",
   "metadata": {
    "id": "tWi42fZNRGQE"
   },
   "source": [
    "# Lesson 1.6"
   ]
  },
  {
   "cell_type": "code",
   "execution_count": 28,
   "metadata": {
    "id": "vc-6GOSXRGQG"
   },
   "outputs": [],
   "source": [
    "import pandas as pd\n",
    "import numpy as np\n",
    "import matplotlib.pyplot as plt\n",
    "import seaborn as sns\n",
    "import sklearn\n",
    "%matplotlib inline"
   ]
  },
  {
   "cell_type": "code",
   "execution_count": 29,
   "metadata": {
    "colab": {
     "base_uri": "https://localhost:8080/"
    },
    "id": "pXjkVIledzqv",
    "outputId": "d2b7b926-0b37-4765-e097-5b3b2ca9df5b"
   },
   "outputs": [
    {
     "data": {
      "text/plain": [
       "array([0, 1, 2, 3, 4, 5, 6, 7, 8, 9])"
      ]
     },
     "execution_count": 29,
     "metadata": {},
     "output_type": "execute_result"
    }
   ],
   "source": [
    "# generating an array of x values\n",
    "x = np.arange(0,10,1)\n",
    "x"
   ]
  },
  {
   "cell_type": "code",
   "execution_count": 30,
   "metadata": {
    "colab": {
     "base_uri": "https://localhost:8080/",
     "height": 265
    },
    "id": "ve8_Nk6hd7lg",
    "outputId": "e14b3ff0-4846-4a55-9354-30a574b36679"
   },
   "outputs": [
    {
     "data": {
      "image/png": "[encoded data removed]",
      "text/plain": [
       "<Figure size 432x288 with 1 Axes>"
      ]
     },
     "metadata": {
      "needs_background": "light"
     },
     "output_type": "display_data"
    }
   ],
   "source": [
    "y = 0 + 1 * x\n",
    "y2 = 3 + 1 * x \n",
    "y3 = -1 + 1 * x\n",
    "#here we are changing the y-intercept, which controls the height of the line\n",
    "\n",
    "plt.plot(x,y)\n",
    "plt.plot(x,y2)\n",
    "plt.plot(x,y3)\n",
    "plt.show()"
   ]
  },
  {
   "cell_type": "code",
   "execution_count": 31,
   "metadata": {
    "colab": {
     "base_uri": "https://localhost:8080/",
     "height": 268
    },
    "id": "jHptCfiDd9bQ",
    "outputId": "1932156f-0f74-4d14-8172-41dc598011d3"
   },
   "outputs": [
    {
     "data": {
      "image/png": "[encoded data removed]",
      "text/plain": [
       "<Figure size 432x288 with 1 Axes>"
      ]
     },
     "metadata": {
      "needs_background": "light"
     },
     "output_type": "display_data"
    }
   ],
   "source": [
    "y = 0 + x \n",
    "y2 = 0 + 2*x \n",
    "y3 = 0 + -3*x\n",
    "#here we are changing the gradient (aka coefficient), which controls the slope of the line\n",
    "\n",
    "plt.plot(x,y)\n",
    "plt.plot(x,y2)\n",
    "plt.plot(x,y3)\n",
    "plt.show()"
   ]
  },
  {
   "cell_type": "code",
   "execution_count": 32,
   "metadata": {
    "id": "97Q-RqHY2SRv"
   },
   "outputs": [],
   "source": [
    "#The whole goal of Linear Regression is to find the \"best\" intercept and slope to \"fit\" our data!\n"
   ]
  },
  {
   "cell_type": "code",
   "execution_count": 33,
   "metadata": {
    "id": "a2sGJkxDRGQJ"
   },
   "outputs": [],
   "source": [
    "# apply linear regression on the following data"
   ]
  },
  {
   "cell_type": "code",
   "execution_count": 34,
   "metadata": {
    "colab": {
     "base_uri": "https://localhost:8080/",
     "height": 204
    },
    "id": "tLZzo8ExRGQJ",
    "outputId": "371335fd-9498-44fa-cb1c-2cb739347d78"
   },
   "outputs": [
    {
     "data": {
      "text/html": [
       "<div>\n",
       "<style scoped>\n",
       "    .dataframe tbody tr th:only-of-type {\n",
       "        vertical-align: middle;\n",
       "    }\n",
       "\n",
       "    .dataframe tbody tr th {\n",
       "        vertical-align: top;\n",
       "    }\n",
       "\n",
       "    .dataframe thead th {\n",
       "        text-align: right;\n",
       "    }\n",
       "</style>\n",
       "<table border=\"1\" class=\"dataframe\">\n",
       "  <thead>\n",
       "    <tr style=\"text-align: right;\">\n",
       "      <th></th>\n",
       "      <th>HV1</th>\n",
       "      <th>IC1</th>\n",
       "      <th>IC2</th>\n",
       "      <th>IC3</th>\n",
       "      <th>IC4</th>\n",
       "      <th>IC5</th>\n",
       "      <th>AVGGIFT</th>\n",
       "      <th>TARGET_D</th>\n",
       "    </tr>\n",
       "  </thead>\n",
       "  <tbody>\n",
       "    <tr>\n",
       "      <th>0</th>\n",
       "      <td>2000.0</td>\n",
       "      <td>458</td>\n",
       "      <td>453</td>\n",
       "      <td>495</td>\n",
       "      <td>469.0</td>\n",
       "      <td>19217</td>\n",
       "      <td>13.511111</td>\n",
       "      <td>38.0</td>\n",
       "    </tr>\n",
       "    <tr>\n",
       "      <th>1</th>\n",
       "      <td>817.0</td>\n",
       "      <td>213</td>\n",
       "      <td>256</td>\n",
       "      <td>240</td>\n",
       "      <td>236.0</td>\n",
       "      <td>8518</td>\n",
       "      <td>12.222222</td>\n",
       "      <td>10.0</td>\n",
       "    </tr>\n",
       "    <tr>\n",
       "      <th>2</th>\n",
       "      <td>1866.0</td>\n",
       "      <td>405</td>\n",
       "      <td>423</td>\n",
       "      <td>394</td>\n",
       "      <td>407.0</td>\n",
       "      <td>15709</td>\n",
       "      <td>23.857143</td>\n",
       "      <td>37.0</td>\n",
       "    </tr>\n",
       "    <tr>\n",
       "      <th>3</th>\n",
       "      <td>1174.0</td>\n",
       "      <td>268</td>\n",
       "      <td>282</td>\n",
       "      <td>298</td>\n",
       "      <td>283.0</td>\n",
       "      <td>10427</td>\n",
       "      <td>10.400000</td>\n",
       "      <td>12.0</td>\n",
       "    </tr>\n",
       "    <tr>\n",
       "      <th>4</th>\n",
       "      <td>3048.0</td>\n",
       "      <td>470</td>\n",
       "      <td>557</td>\n",
       "      <td>562</td>\n",
       "      <td>530.0</td>\n",
       "      <td>31631</td>\n",
       "      <td>8.222222</td>\n",
       "      <td>15.0</td>\n",
       "    </tr>\n",
       "  </tbody>\n",
       "</table>\n",
       "</div>"
      ],
      "text/plain": [
       "      HV1  IC1  IC2  IC3    IC4    IC5    AVGGIFT  TARGET_D\n",
       "0  2000.0  458  453  495  469.0  19217  13.511111      38.0\n",
       "1   817.0  213  256  240  236.0   8518  12.222222      10.0\n",
       "2  1866.0  405  423  394  407.0  15709  23.857143      37.0\n",
       "3  1174.0  268  282  298  283.0  10427  10.400000      12.0\n",
       "4  3048.0  470  557  562  530.0  31631   8.222222      15.0"
      ]
     },
     "execution_count": 34,
     "metadata": {},
     "output_type": "execute_result"
    }
   ],
   "source": [
    "reg_data = pd.read_csv('regression_data.csv')\n",
    "reg_data.head()"
   ]
  },
  {
   "cell_type": "code",
   "execution_count": 35,
   "metadata": {},
   "outputs": [
    {
     "data": {
      "text/html": [
       "<div>\n",
       "<style scoped>\n",
       "    .dataframe tbody tr th:only-of-type {\n",
       "        vertical-align: middle;\n",
       "    }\n",
       "\n",
       "    .dataframe tbody tr th {\n",
       "        vertical-align: top;\n",
       "    }\n",
       "\n",
       "    .dataframe thead th {\n",
       "        text-align: right;\n",
       "    }\n",
       "</style>\n",
       "<table border=\"1\" class=\"dataframe\">\n",
       "  <thead>\n",
       "    <tr style=\"text-align: right;\">\n",
       "      <th></th>\n",
       "      <th>count</th>\n",
       "      <th>mean</th>\n",
       "      <th>std</th>\n",
       "      <th>min</th>\n",
       "      <th>25%</th>\n",
       "      <th>50%</th>\n",
       "      <th>75%</th>\n",
       "      <th>max</th>\n",
       "    </tr>\n",
       "  </thead>\n",
       "  <tbody>\n",
       "    <tr>\n",
       "      <th>HV1</th>\n",
       "      <td>1000.0</td>\n",
       "      <td>1600.019000</td>\n",
       "      <td>1110.065447</td>\n",
       "      <td>150.00000</td>\n",
       "      <td>921.0</td>\n",
       "      <td>1246.500000</td>\n",
       "      <td>1870.00</td>\n",
       "      <td>7077.000000</td>\n",
       "    </tr>\n",
       "    <tr>\n",
       "      <th>IC1</th>\n",
       "      <td>1000.0</td>\n",
       "      <td>348.366000</td>\n",
       "      <td>167.285183</td>\n",
       "      <td>0.00000</td>\n",
       "      <td>237.0</td>\n",
       "      <td>321.000000</td>\n",
       "      <td>416.25</td>\n",
       "      <td>1500.000000</td>\n",
       "    </tr>\n",
       "    <tr>\n",
       "      <th>IC2</th>\n",
       "      <td>1000.0</td>\n",
       "      <td>395.848000</td>\n",
       "      <td>184.705254</td>\n",
       "      <td>0.00000</td>\n",
       "      <td>278.0</td>\n",
       "      <td>365.000000</td>\n",
       "      <td>469.00</td>\n",
       "      <td>1500.000000</td>\n",
       "    </tr>\n",
       "    <tr>\n",
       "      <th>IC3</th>\n",
       "      <td>1000.0</td>\n",
       "      <td>395.767000</td>\n",
       "      <td>165.794211</td>\n",
       "      <td>0.00000</td>\n",
       "      <td>281.0</td>\n",
       "      <td>368.000000</td>\n",
       "      <td>468.00</td>\n",
       "      <td>1311.000000</td>\n",
       "    </tr>\n",
       "    <tr>\n",
       "      <th>IC4</th>\n",
       "      <td>1000.0</td>\n",
       "      <td>379.984000</td>\n",
       "      <td>170.241252</td>\n",
       "      <td>0.00000</td>\n",
       "      <td>267.0</td>\n",
       "      <td>352.500000</td>\n",
       "      <td>449.75</td>\n",
       "      <td>1437.000000</td>\n",
       "    </tr>\n",
       "    <tr>\n",
       "      <th>IC5</th>\n",
       "      <td>1000.0</td>\n",
       "      <td>16177.241000</td>\n",
       "      <td>9641.700538</td>\n",
       "      <td>0.00000</td>\n",
       "      <td>10834.5</td>\n",
       "      <td>14000.000000</td>\n",
       "      <td>18639.00</td>\n",
       "      <td>100528.000000</td>\n",
       "    </tr>\n",
       "    <tr>\n",
       "      <th>AVGGIFT</th>\n",
       "      <td>1000.0</td>\n",
       "      <td>11.828555</td>\n",
       "      <td>6.685000</td>\n",
       "      <td>2.26087</td>\n",
       "      <td>7.0</td>\n",
       "      <td>10.333333</td>\n",
       "      <td>15.00</td>\n",
       "      <td>51.428571</td>\n",
       "    </tr>\n",
       "    <tr>\n",
       "      <th>TARGET_D</th>\n",
       "      <td>1000.0</td>\n",
       "      <td>14.980700</td>\n",
       "      <td>8.858956</td>\n",
       "      <td>2.00000</td>\n",
       "      <td>10.0</td>\n",
       "      <td>14.000000</td>\n",
       "      <td>20.00</td>\n",
       "      <td>50.000000</td>\n",
       "    </tr>\n",
       "  </tbody>\n",
       "</table>\n",
       "</div>"
      ],
      "text/plain": [
       "           count          mean          std        min      25%           50%  \\\n",
       "HV1       1000.0   1600.019000  1110.065447  150.00000    921.0   1246.500000   \n",
       "IC1       1000.0    348.366000   167.285183    0.00000    237.0    321.000000   \n",
       "IC2       1000.0    395.848000   184.705254    0.00000    278.0    365.000000   \n",
       "IC3       1000.0    395.767000   165.794211    0.00000    281.0    368.000000   \n",
       "IC4       1000.0    379.984000   170.241252    0.00000    267.0    352.500000   \n",
       "IC5       1000.0  16177.241000  9641.700538    0.00000  10834.5  14000.000000   \n",
       "AVGGIFT   1000.0     11.828555     6.685000    2.26087      7.0     10.333333   \n",
       "TARGET_D  1000.0     14.980700     8.858956    2.00000     10.0     14.000000   \n",
       "\n",
       "               75%            max  \n",
       "HV1        1870.00    7077.000000  \n",
       "IC1         416.25    1500.000000  \n",
       "IC2         469.00    1500.000000  \n",
       "IC3         468.00    1311.000000  \n",
       "IC4         449.75    1437.000000  \n",
       "IC5       18639.00  100528.000000  \n",
       "AVGGIFT      15.00      51.428571  \n",
       "TARGET_D     20.00      50.000000  "
      ]
     },
     "execution_count": 35,
     "metadata": {},
     "output_type": "execute_result"
    }
   ],
   "source": [
    "reg_data.describe().T"
   ]
  },
  {
   "cell_type": "code",
   "execution_count": 36,
   "metadata": {
    "id": "nQvtB9nf1lj3"
   },
   "outputs": [],
   "source": [
    "from sklearn import linear_model\n",
    "from sklearn.metrics import mean_squared_error, r2_score"
   ]
  },
  {
   "cell_type": "code",
   "execution_count": 37,
   "metadata": {
    "colab": {
     "base_uri": "https://localhost:8080/",
     "height": 279
    },
    "id": "hF9wSjb5S1TE",
    "outputId": "752f21d1-eb56-4f49-a97a-1c20f211c972"
   },
   "outputs": [
    {
     "data": {
      "image/png": "[encoded data removed]",
      "text/plain": [
       "<Figure size 432x288 with 1 Axes>"
      ]
     },
     "metadata": {
      "needs_background": "light"
     },
     "output_type": "display_data"
    }
   ],
   "source": [
    "#let's pick the AVGGIFT variable as the one we think is the most explanatory\n",
    "sns.scatterplot(x='AVGGIFT',y='TARGET_D',data=reg_data)\n",
    "plt.show()"
   ]
  },
  {
   "cell_type": "code",
   "execution_count": 38,
   "metadata": {},
   "outputs": [
    {
     "data": {
      "text/plain": [
       "0.7213639344820852"
      ]
     },
     "execution_count": 38,
     "metadata": {},
     "output_type": "execute_result"
    }
   ],
   "source": [
    "reg_data['TARGET_D'].corr(reg_data['AVGGIFT'])"
   ]
  },
  {
   "cell_type": "code",
   "execution_count": 39,
   "metadata": {
    "id": "M7LGIStxifyc"
   },
   "outputs": [],
   "source": [
    "y = reg_data['TARGET_D']\n",
    "X = reg_data[['AVGGIFT']]"
   ]
  },
  {
   "cell_type": "code",
   "execution_count": 40,
   "metadata": {},
   "outputs": [
    {
     "data": {
      "text/plain": [
       "pandas.core.frame.DataFrame"
      ]
     },
     "execution_count": 40,
     "metadata": {},
     "output_type": "execute_result"
    }
   ],
   "source": [
    "type(X)"
   ]
  },
  {
   "cell_type": "code",
   "execution_count": 41,
   "metadata": {
    "id": "SSH1fK5JUBf9"
   },
   "outputs": [],
   "source": [
    "# to perform the linear regression we'll use the sklearn implementation of linear regression\n",
    "# we will use sklearn a lot\n",
    "\n",
    "# we first create the model. This just tells python to be ready to use a linear model, it does not actually compute anything yet\n",
    "\n",
    "lm = linear_model.LinearRegression()"
   ]
  },
  {
   "cell_type": "code",
   "execution_count": 42,
   "metadata": {
    "colab": {
     "base_uri": "https://localhost:8080/"
    },
    "id": "BtK1TjBQilPF",
    "outputId": "4ce22057-329a-469f-a96a-ba15cc68de71"
   },
   "outputs": [
    {
     "name": "stdout",
     "output_type": "stream",
     "text": [
      " b0 =  3.6731826984235827\n",
      " b1 =  [0.95595086]\n",
      "CPU times: user 5.79 ms, sys: 1.55 ms, total: 7.34 ms\n",
      "Wall time: 2.73 ms\n"
     ]
    }
   ],
   "source": [
    "%%time\n",
    "# we now \"fit\" (a.k.a. \"train\") the model in our data\n",
    "# linear regression picks the line (i.e. the intercept and the gradient) that best \"fits\" our data\n",
    "# we will get to the meaning of \"fitting the data\" in a second\n",
    "\n",
    "lm.fit(X,y)\n",
    "print(\" b0 = \" , lm.intercept_)\n",
    "print(\" b1 = \"  , lm.coef_) # coefficients is an array because later we will see we can have more than one dimension for our gradient"
   ]
  },
  {
   "cell_type": "code",
   "execution_count": 43,
   "metadata": {
    "colab": {
     "base_uri": "https://localhost:8080/",
     "height": 279
    },
    "id": "5TmpVgIDi1gl",
    "outputId": "283aa0f4-5d97-45d5-f121-985469451d58"
   },
   "outputs": [
    {
     "data": {
      "image/png": "[encoded data removed]",
      "text/plain": [
       "<Figure size 432x288 with 1 Axes>"
      ]
     },
     "metadata": {
      "needs_background": "light"
     },
     "output_type": "display_data"
    }
   ],
   "source": [
    "#let's visualize this result\n",
    "regression_line = lm.intercept_ + lm.coef_[0]*reg_data['AVGGIFT']\n",
    "plt.plot(reg_data['AVGGIFT'], regression_line, c = 'orange')\n",
    "sns.scatterplot(x='AVGGIFT',y='TARGET_D',data=reg_data)\n",
    "plt.show()"
   ]
  },
  {
   "cell_type": "code",
   "execution_count": 44,
   "metadata": {
    "colab": {
     "base_uri": "https://localhost:8080/"
    },
    "id": "pHe8F43bh7Y8",
    "outputId": "96fc52a0-b1d9-4bea-f572-c117e51247b7"
   },
   "outputs": [
    {
     "name": "stderr",
     "output_type": "stream",
     "text": [
      "/Users/patrickhutsch/opt/anaconda3/lib/python3.9/site-packages/sklearn/base.py:450: UserWarning: X does not have valid feature names, but LinearRegression was fitted with feature names\n",
      "  warnings.warn(\n"
     ]
    },
    {
     "data": {
      "text/plain": [
       "array([13.23269127, 22.79219984, 37.13146269, 56.25047983])"
      ]
     },
     "execution_count": 44,
     "metadata": {},
     "output_type": "execute_result"
    }
   ],
   "source": [
    "#we can use this model to predict new or unseen datapoints\n",
    "lm.predict([[10],[20],[35],[55]])\n",
    "#what does this mean"
   ]
  },
  {
   "cell_type": "code",
   "execution_count": 45,
   "metadata": {
    "colab": {
     "base_uri": "https://localhost:8080/"
    },
    "id": "7wjI8Qh4iVJG",
    "outputId": "75ad3c3a-1db9-4939-c832-79c291c5afbd"
   },
   "outputs": [
    {
     "name": "stdout",
     "output_type": "stream",
     "text": [
      "R2-score is  0.5203659259714741\n",
      "mean squared error (MSE) is  37.60456685082154\n"
     ]
    },
    {
     "data": {
      "text/plain": [
       "6.132256261020208"
      ]
     },
     "execution_count": 45,
     "metadata": {},
     "output_type": "execute_result"
    }
   ],
   "source": [
    "#the score is not great, but we have not performed any data preparation yet\n",
    "print(\"R2-score is \", lm.score(X,y))\n",
    "\n",
    "y_pred = lm.predict(X)\n",
    "print(\"mean squared error (MSE) is \", mean_squared_error(y_pred,y))\n",
    "np.sqrt(mean_squared_error(y_pred,y))"
   ]
  },
  {
   "cell_type": "code",
   "execution_count": 46,
   "metadata": {
    "colab": {
     "base_uri": "https://localhost:8080/",
     "height": 279
    },
    "id": "AkzVyWwMgPFU",
    "outputId": "35565b8f-0e24-4f93-f316-8cf93e71a81e"
   },
   "outputs": [
    {
     "data": {
      "image/png": "[encoded data removed]",
      "text/plain": [
       "<Figure size 432x288 with 1 Axes>"
      ]
     },
     "metadata": {
      "needs_background": "light"
     },
     "output_type": "display_data"
    }
   ],
   "source": [
    "#any other line would have a worse result\n",
    "regression_line = lm.intercept_ + lm.coef_[0]*reg_data['AVGGIFT']\n",
    "plt.plot(reg_data['AVGGIFT'], regression_line, c = 'orange')\n",
    "regression_line_2 = lm.intercept_ + 0.8*reg_data['AVGGIFT']\n",
    "plt.plot(reg_data['AVGGIFT'], regression_line_2, c = 'red')\n",
    "regression_line_3 = 10 + lm.coef_[0]*reg_data['AVGGIFT']\n",
    "plt.plot(reg_data['AVGGIFT'], regression_line_3, c = 'green')\n",
    "sns.scatterplot(x='AVGGIFT',y='TARGET_D',data=reg_data)\n",
    "plt.show()"
   ]
  },
  {
   "cell_type": "code",
   "execution_count": 47,
   "metadata": {},
   "outputs": [
    {
     "name": "stdout",
     "output_type": "stream",
     "text": [
      "MSE fitted line is  37.6\n",
      "MSE line 2 is       42.09\n",
      "MSE line 3 is       77.63\n"
     ]
    }
   ],
   "source": [
    "print(\"MSE fitted line is \", round(mean_squared_error(regression_line, y),2))\n",
    "print(\"MSE line 2 is      \", round(mean_squared_error(regression_line_2, y),2))\n",
    "print(\"MSE line 3 is      \", round(mean_squared_error(regression_line_3, y),2))"
   ]
  },
  {
   "cell_type": "code",
   "execution_count": 48,
   "metadata": {
    "id": "bcVF-tcRjam0"
   },
   "outputs": [
    {
     "name": "stdout",
     "output_type": "stream",
     "text": [
      "0.5640186699298624\n",
      "34.182077462990065\n",
      "CPU times: user 17.3 ms, sys: 7.67 ms, total: 25 ms\n",
      "Wall time: 8.53 ms\n"
     ]
    }
   ],
   "source": [
    "%%time\n",
    "#let's bring in more variables\n",
    "y = reg_data['TARGET_D']\n",
    "X2 = reg_data.drop(['TARGET_D'], axis=1)\n",
    "lm2 = linear_model.LinearRegression()\n",
    "lm2.fit(X2,y)\n",
    "print(lm2.score(X2,y))\n",
    "y_pred = lm2.predict(X2)\n",
    "print(mean_squared_error(y_pred,y))\n",
    "#results are better, but now we cannot visualize them"
   ]
  },
  {
   "cell_type": "code",
   "execution_count": 49,
   "metadata": {
    "colab": {
     "base_uri": "https://localhost:8080/"
    },
    "id": "CGywtcusRGQK",
    "outputId": "85e3ed9c-b07f-4f6d-9869-39101fa70730"
   },
   "outputs": [
    {
     "name": "stdout",
     "output_type": "stream",
     "text": [
      "3.76043236007874\n",
      "[ 2.59524877e-03 -1.02519484e-01 -9.54071068e-02 -9.46876520e-02\n",
      "  2.89332425e-01 -1.26561451e-04  8.56301222e-01]\n"
     ]
    }
   ],
   "source": [
    "print(lm2.intercept_)\n",
    "print(lm2.coef_)\n",
    "\n",
    "# back to presentation-->"
   ]
  },
  {
   "cell_type": "markdown",
   "metadata": {
    "id": "c_V5xRrWlmSk"
   },
   "source": [
    "# Checking assumptions"
   ]
  },
  {
   "cell_type": "code",
   "execution_count": 50,
   "metadata": {
    "id": "uCZQHQeJqL_z"
   },
   "outputs": [],
   "source": [
    "# THIS IS PROBABLY THE MOST IMPORTANT LINE IN THIS NOTEBOOK\n",
    "# the best variables are those that have a high correlation with the target (you want to predict, always the y), but low correlation between themselves"
   ]
  },
  {
   "cell_type": "code",
   "execution_count": 51,
   "metadata": {
    "colab": {
     "base_uri": "https://localhost:8080/",
     "height": 311
    },
    "id": "oARcUjWhRGQN",
    "outputId": "7159aa2c-b3d8-4824-83a1-bde91243342f"
   },
   "outputs": [
    {
     "data": {
      "image/png": "[encoded data removed]",
      "text/plain": [
       "<Figure size 432x288 with 2 Axes>"
      ]
     },
     "metadata": {
      "needs_background": "light"
     },
     "output_type": "display_data"
    }
   ],
   "source": [
    "correlations_matrix = reg_data.corr()\n",
    "sns.heatmap(correlations_matrix, annot=True)\n",
    "plt.show()"
   ]
  },
  {
   "cell_type": "code",
   "execution_count": 52,
   "metadata": {
    "id": "aef4evjVRGQN"
   },
   "outputs": [],
   "source": [
    "# We can see that there is a very strong positive correlation between IC1 and IC2, IC2 and IC3, IC3 and IC4\n",
    "# using the concept of multicollinearity, lets drop IC1, IC3 and IC4 and keep IC2 as it has the highest corr wit the target"
   ]
  },
  {
   "cell_type": "code",
   "execution_count": 53,
   "metadata": {
    "id": "NkHlkqWjRGQN"
   },
   "outputs": [
    {
     "data": {
      "text/plain": [
       "Index(['HV1', 'IC4', 'IC5', 'AVGGIFT', 'TARGET_D'], dtype='object')"
      ]
     },
     "execution_count": 53,
     "metadata": {},
     "output_type": "execute_result"
    }
   ],
   "source": [
    "reduced_data = reg_data.drop(['IC1', 'IC3', 'IC2'],axis=1)\n",
    "reduced_data.columns"
   ]
  },
  {
   "cell_type": "code",
   "execution_count": 54,
   "metadata": {
    "colab": {
     "base_uri": "https://localhost:8080/"
    },
    "id": "McmgXMcYRGQN",
    "outputId": "4e2987b1-44db-450a-ee30-3520e4e04b7c"
   },
   "outputs": [
    {
     "name": "stdout",
     "output_type": "stream",
     "text": [
      "0.5636016060067842\n",
      "34.21477636622838\n"
     ]
    }
   ],
   "source": [
    "from sklearn import linear_model\n",
    "y = reduced_data['TARGET_D']\n",
    "X3 = reduced_data.drop(['TARGET_D'], axis=1)\n",
    "lm3 = linear_model.LinearRegression()\n",
    "lm3.fit(X3,y)\n",
    "print(lm3.score(X3,y))\n",
    "y_pred=lm3.predict(X3)\n",
    "print(mean_squared_error(y_pred,y))"
   ]
  },
  {
   "cell_type": "code",
   "execution_count": null,
   "metadata": {},
   "outputs": [],
   "source": []
  },
  {
   "cell_type": "code",
   "execution_count": null,
   "metadata": {},
   "outputs": [],
   "source": []
  }
 ],
 "metadata": {
  "colab": {
   "collapsed_sections": [],
   "name": "lesson_1_06.ipynb",
   "provenance": [],
   "toc_visible": true
  },
  "kernelspec": {
   "display_name": "Python 3 (ipykernel)",
   "language": "python",
   "name": "python3"
  },
  "language_info": {
   "codemirror_mode": {
    "name": "ipython",
    "version": 3
   },
   "file_extension": ".py",
   "mimetype": "text/x-python",
   "name": "python",
   "nbconvert_exporter": "python",
   "pygments_lexer": "ipython3",
   "version": "3.9.12"
  }
 },
 "nbformat": 4,
 "nbformat_minor": 1
}

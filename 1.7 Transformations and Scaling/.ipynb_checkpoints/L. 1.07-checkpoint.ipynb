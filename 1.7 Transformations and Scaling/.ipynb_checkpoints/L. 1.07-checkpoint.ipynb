{
 "cells": [
  {
   "cell_type": "code",
   "execution_count": null,
   "metadata": {
    "id": "ON__8MOB8trA"
   },
   "outputs": [],
   "source": [
    "import pandas as pd\n",
    "import numpy as np\n",
    "import matplotlib.pyplot as plt\n",
    "import seaborn as sns\n",
    "%matplotlib inline\n"
   ]
  },
  {
   "cell_type": "code",
   "execution_count": null,
   "metadata": {
    "id": "Vjheiwjs8trG"
   },
   "outputs": [],
   "source": [
    "data = pd.read_csv('regression_data1.csv')"
   ]
  },
  {
   "cell_type": "code",
   "execution_count": null,
   "metadata": {
    "id": "c6jYbmjk8trH"
   },
   "outputs": [],
   "source": [
    "data.shape"
   ]
  },
  {
   "cell_type": "code",
   "execution_count": null,
   "metadata": {
    "id": "pEHp0nx7mExR"
   },
   "outputs": [],
   "source": [
    "data.describe().T"
   ]
  },
  {
   "cell_type": "code",
   "execution_count": null,
   "metadata": {
    "id": "wZlFCIpe8trI"
   },
   "outputs": [],
   "source": [
    "data['HV1'].hist()\n",
    "plt.show()\n"
   ]
  },
  {
   "cell_type": "code",
   "execution_count": null,
   "metadata": {
    "id": "HfFrAX4f8trI"
   },
   "outputs": [],
   "source": [
    "sns.distplot(data['HV1'])\n",
    "plt.show()\n"
   ]
  },
  {
   "cell_type": "code",
   "execution_count": null,
   "metadata": {
    "id": "wPZFRiX98trJ"
   },
   "outputs": [],
   "source": [
    "sns.distplot(data['IC1'])\n",
    "plt.show()\n"
   ]
  },
  {
   "cell_type": "code",
   "execution_count": null,
   "metadata": {
    "id": "RnnPGN0Q8trJ"
   },
   "outputs": [],
   "source": [
    "sns.boxplot(x=data['IC1'])\n",
    "plt.show()\n"
   ]
  },
  {
   "cell_type": "code",
   "execution_count": null,
   "metadata": {
    "id": "9yKKesCq8trJ"
   },
   "outputs": [],
   "source": [
    "# removing the outliers from IC1 - we don't always do it, only for good reasons\n",
    "# but if we want to do it, this is how:\n",
    "iqr = np.percentile(data['IC1'],75) - np.percentile(data['IC1'],25)\n",
    "upper_limit = np.percentile(data['IC1'],75) + 1.5*iqr\n",
    "lower_limit = np.percentile(data['IC1'],25) - 1.5*iqr\n"
   ]
  },
  {
   "cell_type": "code",
   "execution_count": null,
   "metadata": {
    "id": "JBoT03xW8trK"
   },
   "outputs": [],
   "source": [
    "upper_limit"
   ]
  },
  {
   "cell_type": "code",
   "execution_count": null,
   "metadata": {
    "id": "bC8lXf3gmExb"
   },
   "outputs": [],
   "source": [
    "data.shape"
   ]
  },
  {
   "cell_type": "code",
   "execution_count": null,
   "metadata": {
    "id": "v6vp-C-N8trK"
   },
   "outputs": [],
   "source": [
    "data1 = data[(data['IC1']>lower_limit) & (data['IC1']<upper_limit)].copy()\n",
    "sns.distplot(data1['IC1'])\n",
    "plt.show()"
   ]
  },
  {
   "cell_type": "code",
   "execution_count": null,
   "metadata": {
    "id": "krZ_cZi0mExe"
   },
   "outputs": [],
   "source": [
    "data1.shape"
   ]
  },
  {
   "cell_type": "code",
   "execution_count": null,
   "metadata": {
    "id": "Pl5YD6sCmExe"
   },
   "outputs": [],
   "source": [
    "data2 = data[(data['IC1']>np.percentile(data['IC1'],25) - 1*iqr) & (data['IC1']<np.percentile(data['IC1'],75) + 1*iqr)].copy()\n",
    "sns.distplot(data2['IC1'])\n",
    "plt.show()"
   ]
  },
  {
   "cell_type": "code",
   "execution_count": null,
   "metadata": {
    "id": "ouJeuPEOmExf"
   },
   "outputs": [],
   "source": [
    "data = data[(data['IC1']>lower_limit) & (data['IC1']<upper_limit)]"
   ]
  },
  {
   "cell_type": "code",
   "execution_count": null,
   "metadata": {
    "id": "qoECSKvd8trK"
   },
   "outputs": [],
   "source": [
    "#Activity 1\n",
    "# Draw a box plot for the IC2.\n",
    "# Print the descriptive statistics for IC2.\n",
    "# Remove the outliers from the column IC2."
   ]
  },
  {
   "cell_type": "code",
   "execution_count": null,
   "metadata": {
    "id": "0aa_vh_D8trK"
   },
   "outputs": [],
   "source": [
    "\n"
   ]
  },
  {
   "cell_type": "code",
   "execution_count": null,
   "metadata": {
    "id": "-gxZoPKc8trL"
   },
   "outputs": [],
   "source": [
    "\n"
   ]
  },
  {
   "cell_type": "code",
   "execution_count": null,
   "metadata": {
    "id": "4iT7TnF98trL"
   },
   "outputs": [],
   "source": [
    "\n",
    "#End Acivity1\n"
   ]
  },
  {
   "cell_type": "code",
   "execution_count": null,
   "metadata": {
    "id": "nhd_J8LtmExj"
   },
   "outputs": [],
   "source": [
    "lower_limit"
   ]
  },
  {
   "cell_type": "code",
   "execution_count": null,
   "metadata": {
    "id": "-fpmCCTzmExj"
   },
   "outputs": [],
   "source": [
    "data.shape"
   ]
  },
  {
   "cell_type": "code",
   "execution_count": null,
   "metadata": {
    "id": "qbU9Sez28trL"
   },
   "outputs": [],
   "source": [
    "sns.distplot(data['HV1'])\n",
    "plt.show()\n"
   ]
  },
  {
   "cell_type": "code",
   "execution_count": null,
   "metadata": {
    "id": "EypFs_5CmExk"
   },
   "outputs": [],
   "source": [
    "# we want to have all the features in a reasonable (and similar) range.\n",
    "# sometimes we do that by scaling (normalizing), and sometimes by perofrmming a log transformation\n",
    "# or a box-cox transform"
   ]
  },
  {
   "cell_type": "code",
   "execution_count": null,
   "metadata": {
    "id": "EiHNfXfb8trM"
   },
   "outputs": [],
   "source": [
    "# Log10 tranformation: reduce range of 0 - 100000 to a range of 0-5\n",
    "\n",
    "# Code to test how the transformation will look like.\n",
    "# Here we are trying two different codes. Notice that in the first function\n",
    "# we are replacing the -inf values after we take logarithm by 0 while in\n",
    "# the second case we will replace them with np.NaN. The idea is that\n",
    "# we will then replace those NaN values in the column with the mean or\n",
    "# median of the column\n",
    "\n",
    "def log_transfom_clean1(x):\n",
    "    x = np.log10(x)\n",
    "    if np.isfinite(x):\n",
    "        return x\n",
    "    else:\n",
    "        return 0\n",
    "\n",
    "HV1_log = data['HV1'].apply(log_transfom_clean1)\n",
    "sns.distplot(HV1_log)\n",
    "plt.show()\n"
   ]
  },
  {
   "cell_type": "code",
   "execution_count": null,
   "metadata": {
    "id": "M2stNgZy8trM"
   },
   "outputs": [],
   "source": [
    "def log_transform_clean2(x):\n",
    "    x = np.log10(x)\n",
    "    if np.isfinite(x):\n",
    "        return x\n",
    "    else:\n",
    "        return np.NAN # We are returning NaNs so that we can replace them with means later\n",
    "data['HV1_log'] = list(map(log_transform_clean2, data['HV1']))\n",
    "# Now we replace the NAN by the mean\n",
    "data['HV1_log'] = data['HV1_log'].fillna(np.mean(data['HV1_log']))\n",
    "sns.distplot(data['HV1_log'])\n",
    "plt.show()\n"
   ]
  },
  {
   "cell_type": "code",
   "execution_count": null,
   "metadata": {
    "id": "jYOhGoGImExm"
   },
   "outputs": [],
   "source": [
    "data['HV1'].corr(data['HV1_log'])"
   ]
  },
  {
   "cell_type": "code",
   "execution_count": null,
   "metadata": {
    "id": "ArQOppE18trM"
   },
   "outputs": [],
   "source": [
    "data = data.drop(['HV1'], axis=1)\n",
    "data.head()"
   ]
  },
  {
   "cell_type": "code",
   "execution_count": null,
   "metadata": {
    "id": "fXTVEY7z8trM"
   },
   "outputs": [],
   "source": [
    "# Activity 2\n",
    "# Repeat the process(log transformation) for the column IC5. Define the function again yourself.\n",
    "# Remove the tails of the transformed column to make it closer to the normal distribution.\n",
    "# This time change the factor from 1.5 to 3 when calculating the upper limit and the lower limit. Check the distribution plot. Does it remove the tails effectively? If not change the factor back to 1.5 and see the results."
   ]
  },
  {
   "cell_type": "code",
   "execution_count": null,
   "metadata": {
    "id": "1O4XMqComExo"
   },
   "outputs": [],
   "source": []
  },
  {
   "cell_type": "code",
   "execution_count": null,
   "metadata": {
    "id": "pmdOWH0M8trN"
   },
   "outputs": [],
   "source": []
  },
  {
   "cell_type": "code",
   "execution_count": null,
   "metadata": {
    "id": "ePLxNq1H8trN"
   },
   "outputs": [],
   "source": []
  },
  {
   "cell_type": "code",
   "execution_count": null,
   "metadata": {
    "id": "iJOWUyj3mExp"
   },
   "outputs": [],
   "source": []
  },
  {
   "cell_type": "code",
   "execution_count": null,
   "metadata": {
    "id": "olxMz87i8trN"
   },
   "outputs": [],
   "source": [
    "#End Activity 2"
   ]
  },
  {
   "cell_type": "code",
   "execution_count": null,
   "metadata": {
    "id": "v_YBFqNK8trN"
   },
   "outputs": [],
   "source": [
    "# # BoxCox transformation - another one of many transforms, to get the data more like normal\n",
    "\n",
    "# # BoxCox does not like nagative values\n",
    "# #Since this is median household income, we can filter out negative values:\n",
    "# len(data[data['IC1']<=0])  # number of such observations.\n",
    "# # if you do not want to lose this data, replace it with the mean of the column\n",
    "# data['IC1_'] = np.where(data['IC1']<=0,0,data['IC1'])\n",
    "\n",
    "# # now calculate mean of the new column , excluding zeros in the count\n",
    "# mean = np.sum(data['IC1_'])/len(data[data['IC1_']>0])\n",
    "\n",
    "# data['IC1_'] = data['IC1_'].replace(0,mean)\n",
    "# # data = data.drop(['IC1'], axis=1)\n",
    "# sns.displot(data['IC1_'])\n",
    "# plt.show()\n"
   ]
  },
  {
   "cell_type": "code",
   "execution_count": null,
   "metadata": {
    "id": "HaJoWs0K8trO"
   },
   "outputs": [],
   "source": [
    "# from scipy import stats\n",
    "# xt, lmbda = stats.boxcox(data['IC1_'])\n",
    "# sns.displot(xt)\n",
    "# plt.show()\n"
   ]
  },
  {
   "cell_type": "code",
   "execution_count": null,
   "metadata": {
    "id": "IFqZz1nq8trO"
   },
   "outputs": [],
   "source": []
  },
  {
   "cell_type": "code",
   "execution_count": null,
   "metadata": {
    "id": "jeEhUBRk8trO"
   },
   "outputs": [],
   "source": [
    "#Activity 3\n",
    "# Repeat the same steps for column IC3 for box-cox transformation."
   ]
  },
  {
   "cell_type": "code",
   "execution_count": null,
   "metadata": {
    "id": "lMYEpa9o8trO"
   },
   "outputs": [],
   "source": [
    "# # Repeat the same steps for column 'IC3'\n",
    "# # for box cox transformation, we can also use sklearn's preprocessing module. It will be introduced later\n",
    "\n",
    "\n"
   ]
  },
  {
   "cell_type": "code",
   "execution_count": null,
   "metadata": {
    "id": "kC-jDnV78trP"
   },
   "outputs": [],
   "source": [
    "\n",
    "\n",
    "# End Activity 3\n"
   ]
  },
  {
   "cell_type": "markdown",
   "metadata": {
    "id": "em4PWMZImExt"
   },
   "source": [
    "### NOTE: \n",
    "the transformations that we did before aim to make the distributions more like a normal distribution.\n",
    "While there are numeric modelling methods that require this, Linear Regression is not one of them.\n",
    "LR only requires the <i>error terms</i> to be normally ditributed.\n",
    "We still wanted to show these transformations as they might come in handy.\n"
   ]
  },
  {
   "cell_type": "code",
   "execution_count": 1,
   "metadata": {
    "colab": {
     "base_uri": "https://localhost:8080/",
     "height": 235
    },
    "executionInfo": {
     "elapsed": 7,
     "status": "error",
     "timestamp": 1662565096212,
     "user": {
      "displayName": "Jan Molendijk",
      "userId": "00665875236133738524"
     },
     "user_tz": -120
    },
    "id": "0sUiMkTo8trP",
    "outputId": "5e4879e3-f8cb-4345-b8f7-5555a25e6dc2"
   },
   "outputs": [
    {
     "ename": "NameError",
     "evalue": "ignored",
     "output_type": "error",
     "traceback": [
      "\u001b[0;31m---------------------------------------------------------------------------\u001b[0m",
      "\u001b[0;31mNameError\u001b[0m                                 Traceback (most recent call last)",
      "\u001b[0;32m<ipython-input-1-28eca4ef1624>\u001b[0m in \u001b[0;36m<module>\u001b[0;34m\u001b[0m\n\u001b[1;32m      1\u001b[0m \u001b[0;31m# Normalizing and scaling ()\u001b[0m\u001b[0;34m\u001b[0m\u001b[0;34m\u001b[0m\u001b[0;34m\u001b[0m\u001b[0m\n\u001b[1;32m      2\u001b[0m \u001b[0;31m# going back to oiginal data\u001b[0m\u001b[0;34m\u001b[0m\u001b[0;34m\u001b[0m\u001b[0;34m\u001b[0m\u001b[0m\n\u001b[0;32m----> 3\u001b[0;31m \u001b[0mdata\u001b[0m \u001b[0;34m=\u001b[0m \u001b[0mpd\u001b[0m\u001b[0;34m.\u001b[0m\u001b[0mread_csv\u001b[0m\u001b[0;34m(\u001b[0m\u001b[0;34m'regression_data1.csv'\u001b[0m\u001b[0;34m)\u001b[0m\u001b[0;34m\u001b[0m\u001b[0;34m\u001b[0m\u001b[0m\n\u001b[0m\u001b[1;32m      4\u001b[0m \u001b[0mdisplay\u001b[0m\u001b[0;34m(\u001b[0m\u001b[0mdata\u001b[0m\u001b[0;34m.\u001b[0m\u001b[0mhead\u001b[0m\u001b[0;34m(\u001b[0m\u001b[0;34m)\u001b[0m\u001b[0;34m)\u001b[0m\u001b[0;34m\u001b[0m\u001b[0;34m\u001b[0m\u001b[0m\n\u001b[1;32m      5\u001b[0m \u001b[0mdata\u001b[0m\u001b[0;34m.\u001b[0m\u001b[0mshape\u001b[0m\u001b[0;34m\u001b[0m\u001b[0;34m\u001b[0m\u001b[0m\n",
      "\u001b[0;31mNameError\u001b[0m: name 'pd' is not defined"
     ]
    }
   ],
   "source": [
    "# Normalizing and scaling ()\n",
    "# going back to oiginal data\n",
    "data = pd.read_csv('regression_data1.csv') \n",
    "display(data.head())\n",
    "data.shape"
   ]
  },
  {
   "cell_type": "code",
   "execution_count": null,
   "metadata": {
    "executionInfo": {
     "elapsed": 1159,
     "status": "aborted",
     "timestamp": 1662565096214,
     "user": {
      "displayName": "Jan Molendijk",
      "userId": "00665875236133738524"
     },
     "user_tz": -120
    },
    "id": "qDJYChEamExw"
   },
   "outputs": [],
   "source": [
    "data.corr()"
   ]
  },
  {
   "cell_type": "code",
   "execution_count": null,
   "metadata": {
    "executionInfo": {
     "elapsed": 1157,
     "status": "aborted",
     "timestamp": 1662565096214,
     "user": {
      "displayName": "Jan Molendijk",
      "userId": "00665875236133738524"
     },
     "user_tz": -120
    },
    "id": "GTLdksfK8trP"
   },
   "outputs": [],
   "source": [
    "sns.scatterplot(x=data['AVGGIFT'], y=data['TARGET_D'])\n",
    "plt.show()"
   ]
  },
  {
   "cell_type": "code",
   "execution_count": null,
   "metadata": {
    "executionInfo": {
     "elapsed": 7,
     "status": "aborted",
     "timestamp": 1662565096551,
     "user": {
      "displayName": "Jan Molendijk",
      "userId": "00665875236133738524"
     },
     "user_tz": -120
    },
    "id": "h1MPHPZI8trQ"
   },
   "outputs": [],
   "source": [
    "from sklearn.preprocessing import MinMaxScaler # do not use the function Normalise() - it does something entirely different\n",
    "from sklearn.preprocessing import StandardScaler\n",
    "\n",
    "y = data['TARGET_D']\n",
    "X = data.drop(['TARGET_D'], axis=1)\n",
    "X_num = X.select_dtypes(include = np.number)\n",
    "X_cat = X.select_dtypes(include = object)"
   ]
  },
  {
   "cell_type": "code",
   "execution_count": null,
   "metadata": {
    "executionInfo": {
     "elapsed": 7,
     "status": "aborted",
     "timestamp": 1662565096552,
     "user": {
      "displayName": "Jan Molendijk",
      "userId": "00665875236133738524"
     },
     "user_tz": -120
    },
    "id": "zhBYmzjY8trQ"
   },
   "outputs": [],
   "source": [
    "X_num"
   ]
  },
  {
   "cell_type": "code",
   "execution_count": null,
   "metadata": {
    "executionInfo": {
     "elapsed": 7,
     "status": "aborted",
     "timestamp": 1662565096552,
     "user": {
      "displayName": "Jan Molendijk",
      "userId": "00665875236133738524"
     },
     "user_tz": -120
    },
    "id": "3qaWniU28trQ"
   },
   "outputs": [],
   "source": [
    "# Normalizing data: make data range from 0 - 1, instead of from min to max\n",
    "transformer = MinMaxScaler().fit(X_num)\n",
    "x_normalized = transformer.transform(X_num)\n",
    "print(x_normalized.shape)\n",
    "x_normalized\n",
    "pd.DataFrame(x_normalized, columns=X_num.columns)"
   ]
  },
  {
   "cell_type": "code",
   "execution_count": null,
   "metadata": {
    "executionInfo": {
     "elapsed": 8,
     "status": "aborted",
     "timestamp": 1662565096553,
     "user": {
      "displayName": "Jan Molendijk",
      "userId": "00665875236133738524"
     },
     "user_tz": -120
    },
    "id": "QTRJCHT2mExy"
   },
   "outputs": [],
   "source": [
    "pd.DataFrame(x_normalized, columns=X_num.columns).corr()"
   ]
  },
  {
   "cell_type": "code",
   "execution_count": null,
   "metadata": {
    "executionInfo": {
     "elapsed": 8,
     "status": "aborted",
     "timestamp": 1662565096553,
     "user": {
      "displayName": "Jan Molendijk",
      "userId": "00665875236133738524"
     },
     "user_tz": -120
    },
    "id": "Hgm0dHMK8trQ",
    "scrolled": true
   },
   "outputs": [],
   "source": [
    "# scaling standard scaler: make data distributed with mean=0 and std=1\n",
    "transformer = StandardScaler().fit(X_num)\n",
    "x_standardized = transformer.transform(X_num)\n",
    "print(x_standardized.shape)\n",
    "pd.DataFrame(x_standardized, columns=X_num.columns)"
   ]
  },
  {
   "cell_type": "code",
   "execution_count": null,
   "metadata": {
    "executionInfo": {
     "elapsed": 8,
     "status": "aborted",
     "timestamp": 1662565096554,
     "user": {
      "displayName": "Jan Molendijk",
      "userId": "00665875236133738524"
     },
     "user_tz": -120
    },
    "id": "kqxkbPGH8trR"
   },
   "outputs": [],
   "source": [
    "#Activity 4\n",
    "\n",
    "# Keep using the same file (regression_data1.csv) for this exercise.\n",
    "\n",
    "# Load data regression_data1.csv.\n",
    "# Select 3 numeric columns.\n",
    "# Plot distributions.\n",
    "# Normalize using minmaxscaler\n",
    "# Plot the distributions again.\n",
    "# do the same for standardscaler"
   ]
  },
  {
   "cell_type": "code",
   "execution_count": null,
   "metadata": {
    "executionInfo": {
     "elapsed": 8,
     "status": "aborted",
     "timestamp": 1662565096554,
     "user": {
      "displayName": "Jan Molendijk",
      "userId": "00665875236133738524"
     },
     "user_tz": -120
    },
    "id": "8v4DFFUC8trR"
   },
   "outputs": [],
   "source": [
    "\n"
   ]
  },
  {
   "cell_type": "code",
   "execution_count": 1,
   "metadata": {
    "executionInfo": {
     "elapsed": 310,
     "status": "ok",
     "timestamp": 1662565122120,
     "user": {
      "displayName": "Jan Molendijk",
      "userId": "00665875236133738524"
     },
     "user_tz": -120
    },
    "id": "0uSvR-Gn8trR"
   },
   "outputs": [],
   "source": []
  },
  {
   "cell_type": "code",
   "execution_count": null,
   "metadata": {
    "executionInfo": {
     "elapsed": 9,
     "status": "aborted",
     "timestamp": 1662565096555,
     "user": {
      "displayName": "Jan Molendijk",
      "userId": "00665875236133738524"
     },
     "user_tz": -120
    },
    "id": "zo8PTUMz8trR"
   },
   "outputs": [],
   "source": [
    "# same for the three columns\n"
   ]
  },
  {
   "cell_type": "code",
   "execution_count": null,
   "metadata": {
    "executionInfo": {
     "elapsed": 9,
     "status": "aborted",
     "timestamp": 1662565096555,
     "user": {
      "displayName": "Jan Molendijk",
      "userId": "00665875236133738524"
     },
     "user_tz": -120
    },
    "id": "22bXiq2X8trR"
   },
   "outputs": [],
   "source": []
  },
  {
   "cell_type": "code",
   "execution_count": null,
   "metadata": {
    "executionInfo": {
     "elapsed": 9,
     "status": "aborted",
     "timestamp": 1662565096555,
     "user": {
      "displayName": "Jan Molendijk",
      "userId": "00665875236133738524"
     },
     "user_tz": -120
    },
    "id": "fmnY5KGK8trS"
   },
   "outputs": [],
   "source": []
  },
  {
   "cell_type": "code",
   "execution_count": null,
   "metadata": {
    "executionInfo": {
     "elapsed": 10,
     "status": "aborted",
     "timestamp": 1662565096556,
     "user": {
      "displayName": "Jan Molendijk",
      "userId": "00665875236133738524"
     },
     "user_tz": -120
    },
    "id": "W43S437RmEx1"
   },
   "outputs": [],
   "source": []
  },
  {
   "cell_type": "code",
   "execution_count": null,
   "metadata": {
    "executionInfo": {
     "elapsed": 9,
     "status": "aborted",
     "timestamp": 1662565096556,
     "user": {
      "displayName": "Jan Molendijk",
      "userId": "00665875236133738524"
     },
     "user_tz": -120
    },
    "id": "4JDWGhpemEx1"
   },
   "outputs": [],
   "source": []
  },
  {
   "cell_type": "code",
   "execution_count": null,
   "metadata": {
    "executionInfo": {
     "elapsed": 9,
     "status": "aborted",
     "timestamp": 1662565096556,
     "user": {
      "displayName": "Jan Molendijk",
      "userId": "00665875236133738524"
     },
     "user_tz": -120
    },
    "id": "3BXH1Nc88trS"
   },
   "outputs": [],
   "source": [
    "# End Activity 4"
   ]
  },
  {
   "cell_type": "code",
   "execution_count": null,
   "metadata": {
    "executionInfo": {
     "elapsed": 9,
     "status": "aborted",
     "timestamp": 1662565096557,
     "user": {
      "displayName": "Jan Molendijk",
      "userId": "00665875236133738524"
     },
     "user_tz": -120
    },
    "id": "LJcDvCjo8trS"
   },
   "outputs": [],
   "source": []
  }
 ],
 "metadata": {
  "colab": {
   "provenance": []
  },
  "kernelspec": {
   "display_name": "Python 3 (ipykernel)",
   "language": "python",
   "name": "python3"
  },
  "language_info": {
   "codemirror_mode": {
    "name": "ipython",
    "version": 3
   },
   "file_extension": ".py",
   "mimetype": "text/x-python",
   "name": "python",
   "nbconvert_exporter": "python",
   "pygments_lexer": "ipython3",
   "version": "3.9.12"
  }
 },
 "nbformat": 4,
 "nbformat_minor": 1
}
